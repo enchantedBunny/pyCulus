{
 "cells": [
  {
   "cell_type": "code",
   "execution_count": 1,
   "metadata": {
    "collapsed": false
   },
   "outputs": [],
   "source": [
    "import pyCalc as p\n",
    "import matplotlib.pyplot as plt\n",
    "import math"
   ]
  },
  {
   "cell_type": "code",
   "execution_count": 2,
   "metadata": {
    "collapsed": false
   },
   "outputs": [
    {
     "name": "stdout",
     "output_type": "stream",
     "text": [
      "('My id is ', 1)\n",
      "('My id is ', 2)\n",
      "('My id is ', 3)\n",
      "('My id is ', 4)\n",
      "('My id is ', 5)\n",
      "('My id is ', 6)\n",
      "('My id is ', 7)\n",
      "('My id is ', 8)\n",
      "('My id is ', 9)\n",
      "('My id is ', 10)\n",
      "('My id is ', 11)\n",
      "('My id is ', 12)\n",
      "('My id is ', 13)\n",
      "('My id is ', 14)\n",
      "('My id is ', 15)\n",
      "('My id is ', 16)\n",
      "v3\n",
      "v2\n",
      "( 1.000000 * g3 )\n",
      "( 1.000000 * g2 )\n",
      "c\n",
      "( -1.000000 * ( 1.000000 * g3 ) )\n",
      "( -1.000000 * ( 1.000000 * g2 ) )\n",
      "( -1.000000 * 1.000000 )\n",
      "( ( -1.000000 * ( 1.000000 * g3 ) ) * ( exp( ( ( g2 * g3 ) + g4 ) * -1.000000 ) ) )\n",
      "( ( -1.000000 * ( 1.000000 * g2 ) ) * ( exp( ( ( g2 * g3 ) + g4 ) * -1.000000 ) ) )\n",
      "( ( -1.000000 * 1.000000 ) * ( exp( ( ( g2 * g3 ) + g4 ) * -1.000000 ) ) )\n",
      "( ( -1.000000 * ( 1.000000 * g3 ) ) * ( exp( ( ( g2 * g3 ) + g4 ) * -1.000000 ) ) )\n",
      "( 1.000000 * ( ( -1.000000 * ( 1.000000 * g3 ) ) * ( exp( ( ( g2 * g3 ) + g4 ) * -1.000000 ) ) ) )\n",
      "( ( -1.000000 * ( 1.000000 * g2 ) ) * ( exp( ( ( g2 * g3 ) + g4 ) * -1.000000 ) ) )\n",
      "( 1.000000 * ( ( -1.000000 * ( 1.000000 * g2 ) ) * ( exp( ( ( g2 * g3 ) + g4 ) * -1.000000 ) ) ) )\n",
      "( ( -1.000000 * 1.000000 ) * ( exp( ( ( g2 * g3 ) + g4 ) * -1.000000 ) ) )\n",
      "( 1.000000 * ( ( -1.000000 * 1.000000 ) * ( exp( ( ( g2 * g3 ) + g4 ) * -1.000000 ) ) ) )\n",
      "( 1.000000 * ( ( -1.000000 * ( 1.000000 * g3 ) ) * ( exp( ( ( g2 * g3 ) + g4 ) * -1.000000 ) ) ) )\n",
      "( ( ( -1.000000 * 1.000000 ) / ( ( 1.000000 + ( exp( ( ( g2 * g3 ) + g4 ) * -1.000000 ) ) ) * ( 1.000000 + ( exp( ( ( g2 * g3 ) + g4 ) * -1.000000 ) ) ) ) ) * ( 1.000000 * ( ( -1.000000 * ( 1.000000 * g3 ) ) * ( exp( ( ( g2 * g3 ) + g4 ) * -1.000000 ) ) ) ) )\n",
      "( 1.000000 * ( ( -1.000000 * ( 1.000000 * g2 ) ) * ( exp( ( ( g2 * g3 ) + g4 ) * -1.000000 ) ) ) )\n",
      "( ( ( -1.000000 * 1.000000 ) / ( ( 1.000000 + ( exp( ( ( g2 * g3 ) + g4 ) * -1.000000 ) ) ) * ( 1.000000 + ( exp( ( ( g2 * g3 ) + g4 ) * -1.000000 ) ) ) ) ) * ( 1.000000 * ( ( -1.000000 * ( 1.000000 * g2 ) ) * ( exp( ( ( g2 * g3 ) + g4 ) * -1.000000 ) ) ) ) )\n",
      "( 1.000000 * ( ( -1.000000 * 1.000000 ) * ( exp( ( ( g2 * g3 ) + g4 ) * -1.000000 ) ) ) )\n",
      "( ( ( -1.000000 * 1.000000 ) / ( ( 1.000000 + ( exp( ( ( g2 * g3 ) + g4 ) * -1.000000 ) ) ) * ( 1.000000 + ( exp( ( ( g2 * g3 ) + g4 ) * -1.000000 ) ) ) ) ) * ( 1.000000 * ( ( -1.000000 * 1.000000 ) * ( exp( ( ( g2 * g3 ) + g4 ) * -1.000000 ) ) ) ) )\n",
      "( 1.000000 * ( ( ( -1.000000 * 1.000000 ) / ( ( 1.000000 + ( exp( ( ( g2 * g3 ) + g4 ) * -1.000000 ) ) ) * ( 1.000000 + ( exp( ( ( g2 * g3 ) + g4 ) * -1.000000 ) ) ) ) ) * ( 1.000000 * ( ( -1.000000 * ( 1.000000 * g3 ) ) * ( exp( ( ( g2 * g3 ) + g4 ) * -1.000000 ) ) ) ) ) )\n",
      "( 1.000000 * ( ( ( -1.000000 * 1.000000 ) / ( ( 1.000000 + ( exp( ( ( g2 * g3 ) + g4 ) * -1.000000 ) ) ) * ( 1.000000 + ( exp( ( ( g2 * g3 ) + g4 ) * -1.000000 ) ) ) ) ) * ( 1.000000 * ( ( -1.000000 * ( 1.000000 * g2 ) ) * ( exp( ( ( g2 * g3 ) + g4 ) * -1.000000 ) ) ) ) ) )\n",
      "( 1.000000 * ( ( ( -1.000000 * 1.000000 ) / ( ( 1.000000 + ( exp( ( ( g2 * g3 ) + g4 ) * -1.000000 ) ) ) * ( 1.000000 + ( exp( ( ( g2 * g3 ) + g4 ) * -1.000000 ) ) ) ) ) * ( 1.000000 * ( ( -1.000000 * 1.000000 ) * ( exp( ( ( g2 * g3 ) + g4 ) * -1.000000 ) ) ) ) ) )\n",
      "c\n",
      "( ( 1.000000 * ( ( ( -1.000000 * 1.000000 ) / ( ( 1.000000 + ( exp( ( ( g2 * g3 ) + g4 ) * -1.000000 ) ) ) * ( 1.000000 + ( exp( ( ( g2 * g3 ) + g4 ) * -1.000000 ) ) ) ) ) * ( 1.000000 * ( ( -1.000000 * ( 1.000000 * g3 ) ) * ( exp( ( ( g2 * g3 ) + g4 ) * -1.000000 ) ) ) ) ) ) * ( ( ( 1.000000 / ( 1.000000 + ( exp( ( ( g2 * g3 ) + g4 ) * -1.000000 ) ) ) ) - g5 ) * 2.000000 ) )\n",
      "( ( 1.000000 * ( ( ( -1.000000 * 1.000000 ) / ( ( 1.000000 + ( exp( ( ( g2 * g3 ) + g4 ) * -1.000000 ) ) ) * ( 1.000000 + ( exp( ( ( g2 * g3 ) + g4 ) * -1.000000 ) ) ) ) ) * ( 1.000000 * ( ( -1.000000 * ( 1.000000 * g2 ) ) * ( exp( ( ( g2 * g3 ) + g4 ) * -1.000000 ) ) ) ) ) ) * ( ( ( 1.000000 / ( 1.000000 + ( exp( ( ( g2 * g3 ) + g4 ) * -1.000000 ) ) ) ) - g5 ) * 2.000000 ) )\n",
      "( ( 1.000000 * ( ( ( -1.000000 * 1.000000 ) / ( ( 1.000000 + ( exp( ( ( g2 * g3 ) + g4 ) * -1.000000 ) ) ) * ( 1.000000 + ( exp( ( ( g2 * g3 ) + g4 ) * -1.000000 ) ) ) ) ) * ( 1.000000 * ( ( -1.000000 * 1.000000 ) * ( exp( ( ( g2 * g3 ) + g4 ) * -1.000000 ) ) ) ) ) ) * ( ( ( 1.000000 / ( 1.000000 + ( exp( ( ( g2 * g3 ) + g4 ) * -1.000000 ) ) ) ) - g5 ) * 2.000000 ) )\n",
      "( -1.000000 * ( ( ( 1.000000 / ( 1.000000 + ( exp( ( ( g2 * g3 ) + g4 ) * -1.000000 ) ) ) ) - g5 ) * 2.000000 ) )\n",
      "2\n",
      "( pow( ( 1.000000 / ( 1.000000 + ( exp( ( ( v2 * v3 ) + v4 ) * -1.000000 ) ) ) ) - v5 ) )\n"
     ]
    }
   ],
   "source": [
    "a,x1,x2,x3,y,b,c,c1,c2,c4,d,e,f,g,h,i = p.var(),p.var(),p.var(),p.var(),p.var(), p.var(),p.var(),p.var(),p.var(),p.var(),p.var(),p.var(),p.var(),p.var(),p.var(),p.var()\n",
    "y.i()\n",
    "x1.i()\n",
    "x2.i()\n",
    "x3.i()\n",
    "b.c(1)\n",
    "c.c(-1)\n",
    "c1.f(x1,x2,'*')\n",
    "c2.f(c1,x3,\"+\") \n",
    "d.f(c2, c,'*')#-z\n",
    "e.exp(d) \n",
    "f.f(b, e, \"+\") #1+e^-z\n",
    "h.f(b, f, \"/\") #1/(1+e^-z)\n",
    "i.f(h,y,\"-\")\n",
    "g.pow(i,2)\n",
    "g.preview()"
   ]
  },
  {
   "cell_type": "code",
   "execution_count": 6,
   "metadata": {
    "collapsed": false
   },
   "outputs": [
    {
     "name": "stdout",
     "output_type": "stream",
     "text": [
      "( ( 1.000000 * ( ( ( -1.000000 * 1.000000 ) / ( ( 1.000000 + ( exp( ( ( g2 * g3 ) + g4 ) * -1.000000 ) ) ) * ( 1.000000 + ( exp( ( ( g2 * g3 ) + g4 ) * -1.000000 ) ) ) ) ) * ( 1.000000 * ( ( -1.000000 * 1.000000 ) * ( exp( ( ( g2 * g3 ) + g4 ) * -1.000000 ) ) ) ) ) ) * ( ( ( 1.000000 / ( 1.000000 + ( exp( ( ( g2 * g3 ) + g4 ) * -1.000000 ) ) ) ) - g5 ) * 2.000000 ) )\n"
     ]
    },
    {
     "data": {
      "text/plain": [
       "0.9999818801879883"
      ]
     },
     "execution_count": 6,
     "metadata": {},
     "output_type": "execute_result"
    }
   ],
   "source": [
    "g.getDeriv(2,[5,2, 3, 23])"
   ]
  },
  {
   "cell_type": "code",
   "execution_count": 3,
   "metadata": {
    "collapsed": true
   },
   "outputs": [],
   "source": [
    "X = [i for i in range(-10,10)]\n",
    "Y = [ 0 if (2*gg+3<0) else 1 for gg in X]\n",
    "def findCost(cw,cb):\n",
    "    co=0\n",
    "    for i in range(len(X)):\n",
    "        co += g.value([X[i],cw, cb, Y[i]]) \n",
    "    return(co/len(X))\n",
    "def findDerivW(cw,cb):\n",
    "    s = 0\n",
    "    for i in range(len(X)):\n",
    "        wip = g.getDeriv(1,[X[i],cw, cb, Y[i]])   #this deriv is broken\n",
    "        print(wip)\n",
    "        s+=wip\n",
    "    return s/len(X)\n",
    "def findDerivB(cw,cb):\n",
    "    s = 0\n",
    "    for i in range(len(X)):\n",
    "        wip = g.getDeriv(2,[X[i],cw, cb, Y[i]])\n",
    "        print(wip)\n",
    "        s+=wip\n",
    "    return s/len(X)"
   ]
  },
  {
   "cell_type": "code",
   "execution_count": 4,
   "metadata": {
    "collapsed": false
   },
   "outputs": [],
   "source": [
    "costs = []\n",
    "w = 2\n",
    "b = 5\n",
    "lwest = findCost(w,b)"
   ]
  },
  {
   "cell_type": "code",
   "execution_count": null,
   "metadata": {
    "collapsed": false
   },
   "outputs": [],
   "source": [
    "findDerivB(2,5)"
   ]
  },
  {
   "cell_type": "code",
   "execution_count": null,
   "metadata": {
    "collapsed": false
   },
   "outputs": [],
   "source": [
    "\n",
    "for it in range(5):\n",
    "    cur = findCost(w,b)\n",
    "    if lwest >= cur:\n",
    "        wbest = w\n",
    "        bbest =b\n",
    "    #print(cur)\n",
    "    costs.append(cur)\n",
    "    newB = b + 0.01*findDerivB(w,b)\n",
    "    b = newB\n",
    "plt.plot(costs)\n",
    "plt.show()"
   ]
  },
  {
   "cell_type": "code",
   "execution_count": null,
   "metadata": {
    "collapsed": false
   },
   "outputs": [],
   "source": [
    "wbest"
   ]
  },
  {
   "cell_type": "code",
   "execution_count": null,
   "metadata": {
    "collapsed": false
   },
   "outputs": [],
   "source": [
    "bbest"
   ]
  },
  {
   "cell_type": "code",
   "execution_count": null,
   "metadata": {
    "collapsed": true
   },
   "outputs": [],
   "source": []
  }
 ],
 "metadata": {
  "kernelspec": {
   "display_name": "Python 3",
   "language": "python",
   "name": "python3"
  },
  "language_info": {
   "codemirror_mode": {
    "name": "ipython",
    "version": 3
   },
   "file_extension": ".py",
   "mimetype": "text/x-python",
   "name": "python",
   "nbconvert_exporter": "python",
   "pygments_lexer": "ipython3",
   "version": "3.6.0"
  }
 },
 "nbformat": 4,
 "nbformat_minor": 2
}
