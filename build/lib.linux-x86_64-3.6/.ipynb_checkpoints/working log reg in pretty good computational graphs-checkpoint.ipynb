{
 "cells": [
  {
   "cell_type": "code",
   "execution_count": 3,
   "metadata": {
    "collapsed": false
   },
   "outputs": [
    {
     "name": "stdout",
     "output_type": "stream",
     "text": [
      "the 0th deriv of this is( ( 1.000000 - ( sigg5 ) ) * ( sigg5 ) )\n",
      "Output After Training:\n",
      "[0.032000165432691574, 0.025732504203915596, 0.9791266918182373, 0.9740109443664551]\n"
     ]
    }
   ],
   "source": [
    "import pyCalc as p\n",
    "import random\n",
    "j = p.var('i')\n",
    "sig = p.var()\n",
    "sig.sigmoid(j)\n",
    "def nonlin(x,deriv=False):\n",
    "    if(deriv==True):\n",
    "        return sig.getDeriv(0,[x])\n",
    "    return sig.value([x])\n",
    "xs = [[0,0,1],[0,1,1], [1,0,1], [1,1,1] ]         \n",
    "y = [0,0,1,1]\n",
    "syn0 = [random.random() -1 for i in range(3)]\n",
    "for iter in range(1000):\n",
    "    l0 = xs\n",
    "    l1 = [nonlin(sum(ii[0] * ii[1] for ii in zip(i, syn0))) for i in xs ]\n",
    "    l1_error = [ii[0] - ii[1] for ii in zip(y, l1)]\n",
    "    l1_delta = [l1_error[i]* nonlin(sum(ii[0] * ii[1] for ii in zip(xs[i], syn0)),True)  for i in range(len(l1_error))]\n",
    "    hlp = [[iji * l1_delta[iii] for iji in xs[iii]] for iii in range(len(xs)) ]\n",
    "    temp0 = [sum([no[i] for no in hlp]) for i in range(len(syn0))]\n",
    "    syn0 = [sum(x) for x in zip(syn0, temp0)]\n",
    "print (l1)\n"
   ]
  },
  {
   "cell_type": "code",
   "execution_count": null,
   "metadata": {
    "collapsed": true
   },
   "outputs": [],
   "source": []
  },
  {
   "cell_type": "code",
   "execution_count": null,
   "metadata": {
    "collapsed": true
   },
   "outputs": [],
   "source": []
  }
 ],
 "metadata": {
  "kernelspec": {
   "display_name": "Python 3",
   "language": "python",
   "name": "python3"
  },
  "language_info": {
   "codemirror_mode": {
    "name": "ipython",
    "version": 3
   },
   "file_extension": ".py",
   "mimetype": "text/x-python",
   "name": "python",
   "nbconvert_exporter": "python",
   "pygments_lexer": "ipython3",
   "version": "3.6.0"
  }
 },
 "nbformat": 4,
 "nbformat_minor": 2
}
