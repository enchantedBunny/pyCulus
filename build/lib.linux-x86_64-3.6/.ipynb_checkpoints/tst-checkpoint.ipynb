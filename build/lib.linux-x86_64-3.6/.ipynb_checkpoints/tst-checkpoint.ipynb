{
 "cells": [
  {
   "cell_type": "code",
   "execution_count": 1,
   "metadata": {
    "collapsed": false
   },
   "outputs": [],
   "source": [
    "import pyCalc as p"
   ]
  },
  {
   "cell_type": "code",
   "execution_count": 2,
   "metadata": {
    "collapsed": false
   },
   "outputs": [
    {
     "name": "stdout",
     "output_type": "stream",
     "text": [
      "('My id is ', 1)\n",
      "('My id is ', 2)\n",
      "('My id is ', 3)\n",
      "('My id is ', 4)\n",
      "('My id is ', 5)\n",
      "('My id is ', 6)\n",
      "('My id is ', 7)\n",
      "('My id is ', 8)\n",
      "('My id is ', 9)\n",
      "('My id is ', 10)\n",
      "('My id is ', 11)\n"
     ]
    },
    {
     "data": {
      "text/plain": [
       "'This function has 3 dependencies'"
      ]
     },
     "execution_count": 2,
     "metadata": {},
     "output_type": "execute_result"
    }
   ],
   "source": [
    "c1, c2,x,c,gr, f3,eh, eh2, e8 = p.var(),p.var(),p.var(),p.var(), p.var(),p.var(),p.var(),p.var(),p.var()\n",
    "c1.c(1)\n",
    "c2.c(-1)\n",
    "x.i()\n",
    "b = p.var()\n",
    "b.i()\n",
    "c.i()\n",
    "gr.f(x,c,\"*\")\n",
    "Yg = p.var()\n",
    "Yg.f(gr,b,\"+\") #z = x*b"
   ]
  },
  {
   "cell_type": "code",
   "execution_count": 3,
   "metadata": {
    "collapsed": false
   },
   "outputs": [
    {
     "name": "stdout",
     "output_type": "stream",
     "text": [
      "('My id is ', 12)\n",
      "('My id is ', 13)\n",
      "('My id is ', 14)\n"
     ]
    },
    {
     "data": {
      "text/plain": [
       "'This function has 4 dependencies'"
      ]
     },
     "execution_count": 3,
     "metadata": {},
     "output_type": "execute_result"
    }
   ],
   "source": [
    "f3.f(c2, Yg,'*')#-z\n",
    "eh2.exp(f3) #e^-z\n",
    "eh.f(c1, eh2, \"+\") #1+e^-z\n",
    "e8.f(c1, eh, \"/\") #1/(1+e^-z)\n",
    "costt, cost,h = p.var(), p.var(), p.var()\n",
    "h.i()\n",
    "costt.f(h,e8,\"-\")\n",
    "cost.f(costt,costt,\"*\")"
   ]
  },
  {
   "cell_type": "code",
   "execution_count": 4,
   "metadata": {
    "collapsed": false
   },
   "outputs": [
    {
     "name": "stdout",
     "output_type": "stream",
     "text": [
      "( ( g14 - ( 1.000000 / ( 1.000000 + ( exp( -1.000000 * ( ( g3 * g4 ) + g10 ) ) ) ) ) ) * ( g14 - ( 1.000000 / ( 1.000000 + ( exp( -1.000000 * ( ( g3 * g4 ) + g10 ) ) ) ) ) ) )\n"
     ]
    }
   ],
   "source": [
    "cost.preview()"
   ]
  },
  {
   "cell_type": "markdown",
   "metadata": {},
   "source": [
    "import matplotlib.pyplot as plt\n",
    "x = [(i-40)/10 for i in range(80)]\n",
    "y = [e8.value([hh]) for hh in x]\n",
    "plt.plot(x,y)\n",
    "plt.show()"
   ]
  },
  {
   "cell_type": "markdown",
   "metadata": {},
   "source": [
    "x = [(i-40)/10 for i in range(80)]\n",
    "y = [e8.getDeriv(0,[hh]) for hh in x]\n",
    "plt.plot(x,y)\n",
    "plt.show()"
   ]
  },
  {
   "cell_type": "code",
   "execution_count": 52,
   "metadata": {
    "collapsed": false
   },
   "outputs": [
    {
     "name": "stdout",
     "output_type": "stream",
     "text": [
      "[-10, -9, -8, -7, -6, -5, -4, -3, -2, -1, 0, 1, 2, 3, 4, 5, 6, 7, 8, 9, 10]\n",
      "5.5\n",
      "[0, 0, 0, 0, 0, 1, 1, 1, 1, 1, 1, 1, 1, 1, 1, 1, 1, 1, 1, 1, 1]\n",
      "6.477087270645868\n"
     ]
    }
   ],
   "source": [
    "X = [-10, -9, -8, -7, -6, -5, -4, -3, -2 ,-1, 0, 1, 2, 3, 4, 5, 6, 7, 8, 9, 10]\n",
    "w = 5.5\n",
    "Y = [ 0 if (g+5<0) else 1 for g in X]\n",
    "print(X)\n",
    "print(w)\n",
    "print(Y)\n",
    "\n",
    "# import matplotlib.pyplot as plt\n",
    "# plt.plot(X,Y, 'ro')\n",
    "# plt.show()\n",
    "s = 0\n",
    "for i in range(len(X)):\n",
    "    s += cost.getDeriv(2,[1,X[i],w,Y[i]])   #this deriv is broken\n",
    "s = s/len(X)\n",
    "print(s)\n",
    "import math\n",
    "def findCost(w):\n",
    "    co=0\n",
    "    for i in range(len(X)):\n",
    "        co += cost.value([1,X[i],w,Y[i]])\n",
    "    return(co/len(X))\n",
    "glop = []\n",
    "wlop = []\n",
    "slop = []"
   ]
  },
  {
   "cell_type": "code",
   "execution_count": 47,
   "metadata": {
    "collapsed": false
   },
   "outputs": [
    {
     "name": "stdout",
     "output_type": "stream",
     "text": [
      "<class 'int'>\n",
      "<class 'float'>\n",
      "iter: 0 cost 0.07866847755051205 w: 3.0 s: 0.0\n",
      "iter: 50 cost 0.017386815587562984 w: 5.561328771227882 s: 6.473676227387928\n",
      "iter: 100 cost 0.149836530256687 w: 9.776610532034011 s: 10.648110071818033\n",
      "iter: 150 cost 0.2378781835290692 w: 16.70936940965199 s: 17.51224081856864\n",
      "iter: 200 cost 0.23809523809523808 w: 28.111207032884874 s: 28.80118887765067\n",
      "iter: 250 cost 0.23809523809523808 w: 46.86303211484637 s: 47.36735298520043\n",
      "iter: 300 cost 0.23809523809523808 w: 77.70288038980395 s: 77.90185292561848\n",
      "iter: 350 cost 0.23809523809523808 w: 128.42307603291098 s: 128.1198705037435\n",
      "iter: 400 cost 0.23809523809523808 w: 211.83912398474553 s: 210.71001979282923\n",
      "iter: 450 cost 0.23809523809523808 w: 349.02781071889956 s: 346.5404023670015\n",
      "iter: 500 cost 0.23809523809523808 w: 574.6526894914533 s: 569.9313645135788\n",
      "iter: 550 cost 0.23809523809523808 w: 945.7225435011723 s: 937.3272385370163\n",
      "iter: 600 cost 0.23809523809523808 w: 1555.9958325694856 s: 1541.5581926618304\n",
      "iter: 650 cost 0.23809523809523808 w: 2559.6707016054793 s: 2535.2956194196427\n",
      "iter: 700 cost 0.23809523809523808 w: 4210.346341137659 s: 4169.6279064360115\n",
      "iter: 750 cost 0.23809523809523808 w: 6925.100030683786 s: 6857.5029064360115\n",
      "iter: 800 cost 0.23809523809523808 w: 11389.870360854917 s: 11278.067847842261\n",
      "iter: 850 cost 0.23809523809523808 w: 18732.77371232442 s: 18548.268973214286\n",
      "iter: 900 cost 0.23809523809523808 w: 30809.146167681563 s: 30505.073660714286\n",
      "iter: 950 cost 0.23809523809523808 w: 50670.33272553127 s: 50169.61476934524\n",
      "iter: 1000 cost 0.23809523809523808 w: 83334.6721414539 s: 82510.54836309524\n",
      "iter: 1050 cost 0.23809523809523808 w: 137055.4840424956 s: 135699.46205357142\n",
      "iter: 1100 cost 0.23809523809523808 w: 225406.44022553135 s: 223175.66517857142\n",
      "iter: 1150 cost 0.23809523809523808 w: 370711.23390856717 s: 367041.7901785714\n",
      "iter: 1200 cost 0.23809523809523808 w: 609684.1217210675 s: 603648.6041666666\n",
      "iter: 1250 cost 0.23809523809523808 w: 1002706.5413044008 s: 992779.7291666666\n",
      "iter: 1300 cost 0.23809523809523808 w: 1649083.722673448 s: 1632757.1011904762\n",
      "iter: 1350 cost 0.23809523809523808 w: 2712136.2020186856 s: 2685284.226190476\n",
      "iter: 1400 cost 0.23809523809523808 w: 4460466.132613923 s: 4416303.976190476\n",
      "iter: 1450 cost 0.23809523809523808 w: 7335825.140709162 s: 7263193.976190476\n",
      "iter: 1500 cost 0.23809523809523808 w: 12064732.077375827 s: 11945280.0\n",
      "iter: 1550 cost 0.23809523809523808 w: 19842042.989756785 s: 19645588.95238095\n",
      "iter: 1600 cost 0.23809523809523808 w: 32632855.90594727 s: 32309758.95238095\n",
      "iter: 1650 cost 0.23809523809523808 w: 53669034.02975676 s: 53137656.0\n",
      "iter: 1700 cost 0.23809523809523808 w: 88265801.53451867 s: 87391880.0\n",
      "iter: 1750 cost 0.23809523809523808 w: 145164746.0145187 s: 143727472.0\n",
      "iter: 1800 cost 0.23809523809523808 w: 238742560.8945187 s: 236378768.0\n",
      "iter: 1850 cost 0.23809523809523808 w: 392643611.93451864 s: 388756064.0\n",
      "iter: 1900 cost 0.23809523809523808 w: 645754178.9745188 s: 639360576.0\n",
      "iter: 1950 cost 0.23809523809523808 w: 1062027872.4145187 s: 1051512768.0\n",
      "iter: 2000 cost 0.23809523809523808 w: 1746644831.7745197 s: 1729351296.0\n",
      "iter: 2050 cost 0.23809523809523808 w: 2872587658.014521 s: 2844146176.0\n",
      "iter: 2100 cost 0.23809523809523808 w: 4724349066.014524 s: 4677573120.0\n",
      "iter: 2150 cost 0.23809523809523808 w: 7769814788.8945265 s: 7692886016.0\n",
      "iter: 2200 cost 0.23809523809523808 w: 12778484653.854527 s: 12651965440.0\n",
      "iter: 2250 cost 0.23809523809523808 w: 21015902484.25453 s: 20807823360.0\n",
      "iter: 2300 cost 0.23809523809523808 w: 34563421951.774536 s: 34221209600.0\n",
      "iter: 2350 cost 0.23809523809523808 w: 56844103505.69455 s: 56281288704.0\n",
      "iter: 2400 cost 0.23809523809523808 w: 93487621396.25453 s: 92561997824.0\n",
      "iter: 2450 cost 0.23809523809523808 w: 153752717383.45456 s: 152230412288.0\n",
      "iter: 2500 cost 0.23809523809523808 w: 252866611599.1346 s: 250362986496.0\n",
      "iter: 2550 cost 0.23809523809523808 w: 415872476108.5747 s: 411754921984.0\n",
      "iter: 2600 cost 0.23809523809523808 w: 683957109053.2145 s: 677185257472.0\n",
      "iter: 2650 cost 0.23809523809523808 w: 1124857624975.1348 s: 1113720356864.0\n",
      "iter: 2700 cost 0.23809523809523808 w: 1849976642918.1758 s: 1831660027904.0\n",
      "iter: 2750 cost 0.23809523809523808 w: 3042530456033.0537 s: 3012406280192.0\n",
      "iter: 2800 cost 0.23809523809523808 w: 5003842402703.135 s: 4954299301888.0\n",
      "iter: 2850 cost 0.23809523809523808 w: 8229478463231.775 s: 8147998605312.0\n",
      "iter: 2900 cost 0.23809523809523808 w: 13534462169896.736 s: 13400457347072.0\n",
      "iter: 2950 cost 0.23809523809523808 w: 22259207197480.723 s: 22038819373056.0\n",
      "iter: 3000 cost 0.23809523809523808 w: 36608200459212.56 s: 36245744910336.0\n",
      "iter: 3050 cost 0.23809523809523808 w: 60207011387463.45 s: 59610903871488.0\n",
      "iter: 3100 cost 0.23809523809523808 w: 99018366965831.45 s: 98037988851712.0\n",
      "iter: 3150 cost 0.23809523809523808 w: 162848756767446.8 s: 161236394180608.0\n",
      "iter: 3200 cost 0.23809523809523808 w: 267826247424071.38 s: 265174502080512.0\n",
      "iter: 3250 cost 0.23809523809523808 w: 440475566764512.9 s: 436114435342336.0\n",
      "iter: 3300 cost 0.23809523809523808 w: 724420134570875.0 s: 717247660163072.0\n",
      "iter: 3350 cost 0.23809523809523808 w: 1191404404419123.5 s: 1179608338661376.0\n",
      "iter: 3400 cost 0.23809523809523808 w: 1959421591208909.0 s: 1940021426782208.0\n",
      "iter: 3450 cost 0.23809523809523808 w: 3222527103265986.5 s: 3190620877225984.0\n",
      "iter: 3500 cost 0.23809523809523808 w: 5299870614775717.0 s: 5247396694982656.0\n",
      "iter: 3550 cost 0.23809523809523808 w: 8716335883336081.0 s: 8630035627900928.0\n",
      "iter: 3600 cost 0.23809523809523808 w: 1.4335163400923698e+16 s: 1.4193231604482048e+16\n",
      "iter: 3650 cost 0.23809523809523808 w: 2.357606592447019e+16 s: 2.334264044761907e+16\n",
      "iter: 3700 cost 0.23809523809523808 w: 3.877394825417097e+16 s: 3.839004977922048e+16\n",
      "iter: 3750 cost 0.23809523809523808 w: 6.376886897711282e+16 s: 6.313749242498253e+16\n",
      "iter: 3800 cost 0.23809523809523808 w: 1.0487631093491858e+17 s: 1.03837929666773e+17\n",
      "iter: 3850 cost 0.23809523809523808 w: 1.724829181794559e+17 s: 1.7077516677362483e+17\n",
      "iter: 3900 cost 0.23809523809523808 w: 2.8367089530194125e+17 s: 2.8086227385607782e+17\n",
      "iter: 3950 cost 0.23809523809523808 w: 4.6653418052866816e+17 s: 4.619150396709929e+17\n",
      "iter: 4000 cost 0.23809523809523808 w: 7.67276958803577e+17 s: 7.596801401406095e+17\n",
      "iter: 4050 cost 0.23809523809523808 w: 1.261888103594294e+18 s: 1.2493941666564014e+18\n",
      "iter: 4100 cost 0.23809523809523808 w: 2.0753413304880916e+18 s: 2.0547934433889485e+18\n",
      "iter: 4150 cost 0.23809523809523808 w: 3.4131723977039017e+18 s: 3.379378674783486e+18\n",
      "iter: 4200 cost 0.23809523809523808 w: 5.613411938516107e+18 s: 5.55783336631468e+18\n",
      "iter: 4250 cost 0.23809523809523808 w: 9.231995926509124e+18 s: 9.140589806399521e+18\n",
      "iter: 4300 cost 0.23809523809523808 w: 1.5183234256373918e+19 s: 1.5032905604999938e+19\n",
      "iter: 4350 cost 0.23809523809523808 w: 2.4970830206792643e+19 s: 2.4723594272915325e+19\n",
      "iter: 4400 cost 0.23809523809523808 w: 4.106782198856023e+19 s: 4.066121103059819e+19\n",
      "iter: 4450 cost 0.23809523809523808 w: 6.7541446818989875e+19 s: 6.687271941380139e+19\n",
      "iter: 4500 cost 0.23809523809523808 w: 1.1108081245004615e+20 s: 1.0998099912513133e+20\n",
      "iter: 4550 cost 0.23809523809523808 w: 1.826870386688986e+20 s: 1.8087824775594168e+20\n",
      "iter: 4600 cost 0.23809523809523808 w: 3.0045291612943745e+20 s: 2.974781309584241e+20\n",
      "iter: 4650 cost 0.23809523809523808 w: 4.9413442545171995e+20 s: 4.892420012261853e+20\n",
      "iter: 4700 cost 0.23809523809523808 w: 8.126692008553158e+20 s: 8.046229610501977e+20\n",
      "iter: 4750 cost 0.23809523809523808 w: 1.336541626490354e+21 s: 1.323308581846457e+21\n",
      "iter: 4800 cost 0.23809523809523808 w: 2.198118884535382e+21 s: 2.176355371990049e+21\n",
      "iter: 4850 cost 0.23809523809523808 w: 3.61509625314215e+21 s: 3.579303357847112e+21\n",
      "iter: 4900 cost 0.23809523809523808 w: 5.945502333824486e+21 s: 5.886635932637559e+21\n",
      "iter: 4950 cost 0.23809523809523808 w: 9.778162337148274e+21 s: 9.681348712461616e+21\n",
      "3\n",
      "1.576460830573551e+22\n"
     ]
    }
   ],
   "source": [
    "\n",
    "for it in range (5000):\n",
    "    s = 0.0\n",
    "    for i in range(len(X)):\n",
    "        if type(s) == type(w):\n",
    "            fllg = cost.getDeriv(2,[1,X[i],w,Y[i]])\n",
    "        else:\n",
    "            print(type(w))\n",
    "            print(type(s))\n",
    "            break\n",
    "        if type(fllg) == type(s):\n",
    "            s+=fllg\n",
    "        else:\n",
    "            print(type(fllg))\n",
    "            print(type(s))\n",
    "    s = s/len(X)\n",
    "    slop.append(s)\n",
    "    glop.append(findCost(w))\n",
    "    wlop.append(w)\n",
    "    w = w - 0.01*s \n",
    "    if math.isnan(s):\n",
    "        print(\"it's nan\", it, w, s,  sep=\"   \")\n",
    "    if it % 50 == 0:\n",
    "        print(\"iter:\", it, \"cost\", glop[it], \"w:\", w,\"s:\", s, sep=\" \")\n",
    "print(wlop[0])\n",
    "print(wlop[len(wlop)-1])"
   ]
  },
  {
   "cell_type": "code",
   "execution_count": 20,
   "metadata": {
    "collapsed": false
   },
   "outputs": [
    {
     "data": {
      "image/png": "[encoded data removed]",
      "text/plain": [
       "<matplotlib.figure.Figure at 0x7f141d7e2780>"
      ]
     },
     "metadata": {},
     "output_type": "display_data"
    }
   ],
   "source": [
    "import matplotlib.pyplot as plt\n",
    "plt.plot(wlop)\n",
    "plt.show()"
   ]
  },
  {
   "cell_type": "code",
   "execution_count": 21,
   "metadata": {
    "collapsed": false
   },
   "outputs": [
    {
     "data": {
      "image/png": "[encoded data removed]",
      "text/plain": [
       "<matplotlib.figure.Figure at 0x7f141d637630>"
      ]
     },
     "metadata": {},
     "output_type": "display_data"
    }
   ],
   "source": [
    "plt.plot(glop)\n",
    "plt.show()"
   ]
  },
  {
   "cell_type": "code",
   "execution_count": 41,
   "metadata": {
    "collapsed": false
   },
   "outputs": [
    {
     "data": {
      "image/png": "[encoded data removed]",
      "text/plain": [
       "<matplotlib.figure.Figure at 0x7f141d515390>"
      ]
     },
     "metadata": {},
     "output_type": "display_data"
    }
   ],
   "source": [
    "out = [1 if e8.value([1,xx,5.5]) > 0.5 else 0 for xx in X]\n",
    "plt.plot(X,out)\n",
    "plt.show()"
   ]
  },
  {
   "cell_type": "code",
   "execution_count": 42,
   "metadata": {
    "collapsed": false
   },
   "outputs": [
    {
     "data": {
      "image/png": "[encoded data removed]",
      "text/plain": [
       "<matplotlib.figure.Figure at 0x7f141d625748>"
      ]
     },
     "metadata": {},
     "output_type": "display_data"
    }
   ],
   "source": [
    "plt.plot(X,Y)\n",
    "plt.show()"
   ]
  },
  {
   "cell_type": "code",
   "execution_count": 43,
   "metadata": {
    "collapsed": false
   },
   "outputs": [
    {
     "name": "stdout",
     "output_type": "stream",
     "text": [
      "100.0 %\n"
     ]
    }
   ],
   "source": [
    "acc = [1 if Y[l]==out[l] else 0 for l in range(len(Y))]\n",
    "acc = sum(acc)/len(acc)\n",
    "print(acc*100, '%')"
   ]
  },
  {
   "cell_type": "code",
   "execution_count": 12,
   "metadata": {
    "collapsed": false
   },
   "outputs": [
    {
     "name": "stdout",
     "output_type": "stream",
     "text": [
      "( ( g3 * g4 ) + g10 )\n"
     ]
    }
   ],
   "source": [
    "Yg.preview()"
   ]
  },
  {
   "cell_type": "code",
   "execution_count": 36,
   "metadata": {
    "collapsed": false
   },
   "outputs": [
    {
     "data": {
      "text/plain": [
       "7.0"
      ]
     },
     "execution_count": 36,
     "metadata": {},
     "output_type": "execute_result"
    }
   ],
   "source": [
    "cost.getDeriv(2,[1,-7,5,0])"
   ]
  },
  {
   "cell_type": "code",
   "execution_count": 34,
   "metadata": {
    "collapsed": false
   },
   "outputs": [
    {
     "data": {
      "text/plain": [
       "0.014209335669875145"
      ]
     },
     "execution_count": 34,
     "metadata": {},
     "output_type": "execute_result"
    }
   ],
   "source": [
    "cost.value([1,-7,5,0])"
   ]
  },
  {
   "cell_type": "code",
   "execution_count": null,
   "metadata": {
    "collapsed": true
   },
   "outputs": [],
   "source": []
  }
 ],
 "metadata": {
  "kernelspec": {
   "display_name": "Python 3",
   "language": "python",
   "name": "python3"
  },
  "language_info": {
   "codemirror_mode": {
    "name": "ipython",
    "version": 3
   },
   "file_extension": ".py",
   "mimetype": "text/x-python",
   "name": "python",
   "nbconvert_exporter": "python",
   "pygments_lexer": "ipython3",
   "version": "3.6.0"
  }
 },
 "nbformat": 4,
 "nbformat_minor": 2
}
