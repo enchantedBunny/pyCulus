{
 "cells": [
  {
   "cell_type": "code",
   "execution_count": 1,
   "metadata": {
    "collapsed": false
   },
   "outputs": [],
   "source": [
    "import pyCalc as p\n",
    "import matplotlib.pyplot as plt"
   ]
  },
  {
   "cell_type": "code",
   "execution_count": 2,
   "metadata": {
    "collapsed": false
   },
   "outputs": [
    {
     "name": "stdout",
     "output_type": "stream",
     "text": [
      "('My id is ', 1)\n",
      "('My id is ', 2)\n",
      "('My id is ', 3)\n",
      "('My id is ', 4)\n",
      "('My id is ', 5)\n",
      "('My id is ', 6)\n",
      "c\n"
     ]
    },
    {
     "data": {
      "text/plain": [
       "'This function has 1 dependencies'"
      ]
     },
     "execution_count": 2,
     "metadata": {},
     "output_type": "execute_result"
    }
   ],
   "source": [
    "x,c,f, l,j,k = p.var(),p.var(),p.var(), p.var(),p.var(),p.var()\n",
    "x.i()\n",
    "c.c(3)\n",
    "f.f(x,c,\"+\")"
   ]
  },
  {
   "cell_type": "code",
   "execution_count": 3,
   "metadata": {
    "collapsed": false
   },
   "outputs": [
    {
     "name": "stdout",
     "output_type": "stream",
     "text": [
      "( 1.000000 * ( ( pow( g1 + 3.000000 ) ) * 5.000000 ) )\n",
      "c\n",
      "( ( 1.000000 * ( 1.000000 * ( ( pow( g1 + 3.000000 ) ) * 5.000000 ) ) ) + ( 1.000000 * 1.000000 ) )\n"
     ]
    },
    {
     "data": {
      "text/plain": [
       "'This function has 1 dependencies'"
      ]
     },
     "execution_count": 3,
     "metadata": {},
     "output_type": "execute_result"
    }
   ],
   "source": [
    "k.pow(f,5)\n",
    "j.f(x,c,\"-\")\n",
    "l.f(k,j,\"+\")"
   ]
  },
  {
   "cell_type": "code",
   "execution_count": 4,
   "metadata": {
    "collapsed": false
   },
   "outputs": [
    {
     "name": "stdout",
     "output_type": "stream",
     "text": [
      "( ( pow( g1 + 3.000000 ) ) + ( g1 - 3.000000 ) )\n"
     ]
    }
   ],
   "source": [
    "l.preview()"
   ]
  },
  {
   "cell_type": "code",
   "execution_count": 5,
   "metadata": {
    "collapsed": false
   },
   "outputs": [
    {
     "data": {
      "text/plain": [
       "3200014.0"
      ]
     },
     "execution_count": 5,
     "metadata": {},
     "output_type": "execute_result"
    }
   ],
   "source": [
    "l.value([17])"
   ]
  },
  {
   "cell_type": "code",
   "execution_count": 6,
   "metadata": {
    "collapsed": false
   },
   "outputs": [
    {
     "data": {
      "text/plain": [
       "800000.0"
      ]
     },
     "execution_count": 6,
     "metadata": {},
     "output_type": "execute_result"
    }
   ],
   "source": [
    "k.getDeriv(0,[17])"
   ]
  },
  {
   "cell_type": "code",
   "execution_count": 7,
   "metadata": {
    "collapsed": false
   },
   "outputs": [
    {
     "data": {
      "text/plain": [
       "1.0"
      ]
     },
     "execution_count": 7,
     "metadata": {},
     "output_type": "execute_result"
    }
   ],
   "source": [
    "j.getDeriv(0,[17])"
   ]
  },
  {
   "cell_type": "code",
   "execution_count": 8,
   "metadata": {
    "collapsed": false
   },
   "outputs": [
    {
     "data": {
      "text/plain": [
       "800001.0"
      ]
     },
     "execution_count": 8,
     "metadata": {},
     "output_type": "execute_result"
    }
   ],
   "source": [
    "l.getDeriv(0,[17])  # + derivs don't work well"
   ]
  },
  {
   "cell_type": "code",
   "execution_count": 9,
   "metadata": {
    "collapsed": false
   },
   "outputs": [
    {
     "data": {
      "image/png": "[encoded data removed]",
      "text/plain": [
       "<matplotlib.figure.Figure at 0x7f63798018d0>"
      ]
     },
     "metadata": {},
     "output_type": "display_data"
    }
   ],
   "source": [
    "xs = [i for i in range(-100,100)]\n",
    "ys = [l.value([i]) for i in xs]\n",
    "plt.plot(xs,ys)\n",
    "plt.show()"
   ]
  },
  {
   "cell_type": "code",
   "execution_count": 10,
   "metadata": {
    "collapsed": false
   },
   "outputs": [
    {
     "data": {
      "image/png": "[encoded data removed]",
      "text/plain": [
       "<matplotlib.figure.Figure at 0x7f6379801400>"
      ]
     },
     "metadata": {},
     "output_type": "display_data"
    }
   ],
   "source": [
    "xs = [i for i in range(-100,100)]\n",
    "ys = [l.getDeriv(0,[i]) for i in xs]\n",
    "plt.plot(xs,ys)\n",
    "plt.show()"
   ]
  },
  {
   "cell_type": "code",
   "execution_count": 2,
   "metadata": {
    "collapsed": false
   },
   "outputs": [
    {
     "name": "stdout",
     "output_type": "stream",
     "text": [
      "('My id is ', 1)\n",
      "('My id is ', 2)\n",
      "('My id is ', 3)\n",
      "('My id is ', 4)\n",
      "('My id is ', 5)\n",
      "('My id is ', 6)\n",
      "('My id is ', 7)\n",
      "('My id is ', 8)\n",
      "('My id is ', 9)\n",
      "('My id is ', 10)\n",
      "('My id is ', 11)\n",
      "('My id is ', 12)\n",
      "('My id is ', 13)\n",
      "('My id is ', 14)\n",
      "('My id is ', 15)\n",
      "('My id is ', 16)\n",
      "v3\n",
      "v2\n",
      "( 1.000000 * g3 )\n",
      "( 1.000000 * g2 )\n",
      "c\n",
      "( -1.000000 * ( 1.000000 * g3 ) )\n",
      "( -1.000000 * ( 1.000000 * g2 ) )\n",
      "( -1.000000 * 1.000000 )\n",
      "( ( -1.000000 * ( 1.000000 * g3 ) ) * ( exp( ( ( g2 * g3 ) + g4 ) * -1.000000 ) ) )\n",
      "( ( -1.000000 * ( 1.000000 * g2 ) ) * ( exp( ( ( g2 * g3 ) + g4 ) * -1.000000 ) ) )\n",
      "( ( -1.000000 * 1.000000 ) * ( exp( ( ( g2 * g3 ) + g4 ) * -1.000000 ) ) )\n",
      "( 1.000000 * ( ( -1.000000 * ( 1.000000 * g3 ) ) * ( exp( ( ( g2 * g3 ) + g4 ) * -1.000000 ) ) ) )\n",
      "( 1.000000 * ( ( -1.000000 * ( 1.000000 * g2 ) ) * ( exp( ( ( g2 * g3 ) + g4 ) * -1.000000 ) ) ) )\n",
      "( 1.000000 * ( ( -1.000000 * 1.000000 ) * ( exp( ( ( g2 * g3 ) + g4 ) * -1.000000 ) ) ) )\n",
      "( ( ( -1.000000 * 1.000000 ) / ( ( 1.000000 + ( exp( ( ( g2 * g3 ) + g4 ) * -1.000000 ) ) ) * ( 1.000000 + ( exp( ( ( g2 * g3 ) + g4 ) * -1.000000 ) ) ) ) ) * ( 1.000000 * ( ( -1.000000 * ( 1.000000 * g3 ) ) * ( exp( ( ( g2 * g3 ) + g4 ) * -1.000000 ) ) ) ) )\n",
      "( ( ( -1.000000 * 1.000000 ) / ( ( 1.000000 + ( exp( ( ( g2 * g3 ) + g4 ) * -1.000000 ) ) ) * ( 1.000000 + ( exp( ( ( g2 * g3 ) + g4 ) * -1.000000 ) ) ) ) ) * ( 1.000000 * ( ( -1.000000 * ( 1.000000 * g2 ) ) * ( exp( ( ( g2 * g3 ) + g4 ) * -1.000000 ) ) ) ) )\n",
      "( ( ( -1.000000 * 1.000000 ) / ( ( 1.000000 + ( exp( ( ( g2 * g3 ) + g4 ) * -1.000000 ) ) ) * ( 1.000000 + ( exp( ( ( g2 * g3 ) + g4 ) * -1.000000 ) ) ) ) ) * ( 1.000000 * ( ( -1.000000 * 1.000000 ) * ( exp( ( ( g2 * g3 ) + g4 ) * -1.000000 ) ) ) ) )\n",
      "( 1.000000 * ( ( ( -1.000000 * 1.000000 ) / ( ( 1.000000 + ( exp( ( ( g2 * g3 ) + g4 ) * -1.000000 ) ) ) * ( 1.000000 + ( exp( ( ( g2 * g3 ) + g4 ) * -1.000000 ) ) ) ) ) * ( 1.000000 * ( ( -1.000000 * ( 1.000000 * g3 ) ) * ( exp( ( ( g2 * g3 ) + g4 ) * -1.000000 ) ) ) ) ) )\n",
      "( 1.000000 * ( ( ( -1.000000 * 1.000000 ) / ( ( 1.000000 + ( exp( ( ( g2 * g3 ) + g4 ) * -1.000000 ) ) ) * ( 1.000000 + ( exp( ( ( g2 * g3 ) + g4 ) * -1.000000 ) ) ) ) ) * ( 1.000000 * ( ( -1.000000 * ( 1.000000 * g2 ) ) * ( exp( ( ( g2 * g3 ) + g4 ) * -1.000000 ) ) ) ) ) )\n",
      "( 1.000000 * ( ( ( -1.000000 * 1.000000 ) / ( ( 1.000000 + ( exp( ( ( g2 * g3 ) + g4 ) * -1.000000 ) ) ) * ( 1.000000 + ( exp( ( ( g2 * g3 ) + g4 ) * -1.000000 ) ) ) ) ) * ( 1.000000 * ( ( -1.000000 * 1.000000 ) * ( exp( ( ( g2 * g3 ) + g4 ) * -1.000000 ) ) ) ) ) )\n",
      "c\n",
      "( ( 1.000000 * ( ( ( -1.000000 * 1.000000 ) / ( ( 1.000000 + ( exp( ( ( g2 * g3 ) + g4 ) * -1.000000 ) ) ) * ( 1.000000 + ( exp( ( ( g2 * g3 ) + g4 ) * -1.000000 ) ) ) ) ) * ( 1.000000 * ( ( -1.000000 * ( 1.000000 * g3 ) ) * ( exp( ( ( g2 * g3 ) + g4 ) * -1.000000 ) ) ) ) ) ) * ( ( ( 1.000000 / ( 1.000000 + ( exp( ( ( g2 * g3 ) + g4 ) * -1.000000 ) ) ) ) - g5 ) * 2.000000 ) )\n",
      "( ( 1.000000 * ( ( ( -1.000000 * 1.000000 ) / ( ( 1.000000 + ( exp( ( ( g2 * g3 ) + g4 ) * -1.000000 ) ) ) * ( 1.000000 + ( exp( ( ( g2 * g3 ) + g4 ) * -1.000000 ) ) ) ) ) * ( 1.000000 * ( ( -1.000000 * ( 1.000000 * g2 ) ) * ( exp( ( ( g2 * g3 ) + g4 ) * -1.000000 ) ) ) ) ) ) * ( ( ( 1.000000 / ( 1.000000 + ( exp( ( ( g2 * g3 ) + g4 ) * -1.000000 ) ) ) ) - g5 ) * 2.000000 ) )\n",
      "( ( 1.000000 * ( ( ( -1.000000 * 1.000000 ) / ( ( 1.000000 + ( exp( ( ( g2 * g3 ) + g4 ) * -1.000000 ) ) ) * ( 1.000000 + ( exp( ( ( g2 * g3 ) + g4 ) * -1.000000 ) ) ) ) ) * ( 1.000000 * ( ( -1.000000 * 1.000000 ) * ( exp( ( ( g2 * g3 ) + g4 ) * -1.000000 ) ) ) ) ) ) * ( ( ( 1.000000 / ( 1.000000 + ( exp( ( ( g2 * g3 ) + g4 ) * -1.000000 ) ) ) ) - g5 ) * 2.000000 ) )\n",
      "( -1.000000 * ( ( ( 1.000000 / ( 1.000000 + ( exp( ( ( g2 * g3 ) + g4 ) * -1.000000 ) ) ) ) - g5 ) * 2.000000 ) )\n",
      "2\n",
      "( pow( ( 1.000000 / ( 1.000000 + ( exp( ( ( v2 * v3 ) + v4 ) * -1.000000 ) ) ) ) - v5 ) )\n"
     ]
    }
   ],
   "source": [
    "a,x1,x2,x3,y,b,c,c1,c2,c4,d,e,f,g,h,i = p.var(),p.var(),p.var(),p.var(),p.var(), p.var(),p.var(),p.var(),p.var(),p.var(),p.var(),p.var(),p.var(),p.var(),p.var(),p.var()\n",
    "y.i()\n",
    "x1.i()\n",
    "x2.i()\n",
    "x3.i()\n",
    "b.c(1)\n",
    "c.c(-1)\n",
    "c1.f(x1,x2,'*')\n",
    "c2.f(c1,x3,\"+\") \n",
    "d.f(c2, c,'*')#-z\n",
    "e.exp(d) \n",
    "f.f(b, e, \"+\") #1+e^-z\n",
    "h.f(b, f, \"/\") #1/(1+e^-z)\n",
    "i.f(h,y,\"-\")\n",
    "g.pow(i,2)\n",
    "g.preview()"
   ]
  },
  {
   "cell_type": "code",
   "execution_count": 29,
   "metadata": {
    "collapsed": false
   },
   "outputs": [
    {
     "data": {
      "image/png": "[encoded data removed]",
      "text/plain": [
       "<matplotlib.figure.Figure at 0x7f6376f42b38>"
      ]
     },
     "metadata": {},
     "output_type": "display_data"
    }
   ],
   "source": [
    "xs = [i for i in range(-10,10)]\n",
    "ys = [g.value([i,4,3, 1 if 4*i + 3> 0 else 0]) for i in xs]\n",
    "plt.plot(xs,ys)\n",
    "plt.show()"
   ]
  },
  {
   "cell_type": "code",
   "execution_count": 40,
   "metadata": {
    "collapsed": false
   },
   "outputs": [
    {
     "data": {
      "image/png": "[encoded data removed]",
      "text/plain": [
       "<matplotlib.figure.Figure at 0x7f6377114470>"
      ]
     },
     "metadata": {},
     "output_type": "display_data"
    }
   ],
   "source": [
    "xs = [i for i in range(-10,10)]\n",
    "ys = [g.getDeriv(1,[i,4,3, 1 if 5*i + 3> 0 else 0]) for i in xs]\n",
    "plt.plot(xs,ys)\n",
    "plt.show()"
   ]
  },
  {
   "cell_type": "code",
   "execution_count": 28,
   "metadata": {
    "collapsed": false
   },
   "outputs": [
    {
     "data": {
      "image/png": "[encoded data removed]",
      "text/plain": [
       "<matplotlib.figure.Figure at 0x7f63770cc710>"
      ]
     },
     "metadata": {},
     "output_type": "display_data"
    }
   ],
   "source": [
    "xs = [i for i in range(-10,10)]\n",
    "ys = [g.getDeriv(2,[i,4,3, 1 if 5*i + 3> 0 else 0]) for i in xs]\n",
    "plt.plot(xs,ys)\n",
    "plt.show()"
   ]
  },
  {
   "cell_type": "code",
   "execution_count": 3,
   "metadata": {
    "collapsed": true
   },
   "outputs": [],
   "source": [
    "X = [i for i in range(-10,10)]\n",
    "Y = [ 0 if (2*g+3<0) else 1 for g in X]\n",
    "def findCost(cw,cb):\n",
    "    co=0\n",
    "    for i in range(len(X)):\n",
    "        co += g.value([X[i],cw, cb, Y[i]]) \n",
    "    return(co/len(X))\n",
    "def findDerivW(cw,cb):\n",
    "    s = 0\n",
    "    for i in range(len(X)):\n",
    "        s += g.getDeriv(1,[X[i],cw, cb, Y[i]])   #this deriv is broken\n",
    "    return s/len(X)\n",
    "def findDerivB(cw,cb):\n",
    "    s = 0\n",
    "    for i in range(len(X)):\n",
    "        s += g.getDeriv(2,[X[i],cw, cb, Y[i]])   #this deriv is broken\n",
    "    return s/len(X)"
   ]
  },
  {
   "cell_type": "code",
   "execution_count": 4,
   "metadata": {
    "collapsed": false
   },
   "outputs": [
    {
     "data": {
      "text/plain": [
       "0.007462433654501291"
      ]
     },
     "execution_count": 4,
     "metadata": {},
     "output_type": "execute_result"
    }
   ],
   "source": [
    "findCost(2,3)"
   ]
  },
  {
   "cell_type": "code",
   "execution_count": 5,
   "metadata": {
    "collapsed": false
   },
   "outputs": [
    {
     "data": {
      "text/plain": [
       "0.4849420593796886"
      ]
     },
     "execution_count": 5,
     "metadata": {},
     "output_type": "execute_result"
    }
   ],
   "source": [
    "findDerivW(2,3)"
   ]
  },
  {
   "cell_type": "code",
   "execution_count": 6,
   "metadata": {
    "collapsed": false
   },
   "outputs": [
    {
     "data": {
      "text/plain": [
       "0.4849420593796886"
      ]
     },
     "execution_count": 6,
     "metadata": {},
     "output_type": "execute_result"
    }
   ],
   "source": [
    "findDerivB(2,3)"
   ]
  },
  {
   "cell_type": "code",
   "execution_count": 7,
   "metadata": {
    "collapsed": false
   },
   "outputs": [
    {
     "name": "stdout",
     "output_type": "stream",
     "text": [
      "0.5503810584545137\n"
     ]
    },
    {
     "ename": "TypeError",
     "evalue": "must be str, not int",
     "output_type": "error",
     "traceback": [
      "\u001b[0;31m---------------------------------------------------------------------------\u001b[0m",
      "\u001b[0;31mTypeError\u001b[0m                                 Traceback (most recent call last)",
      "\u001b[0;32m<ipython-input-7-782399804485>\u001b[0m in \u001b[0;36m<module>\u001b[0;34m()\u001b[0m\n\u001b[1;32m      6\u001b[0m     \u001b[0mprint\u001b[0m\u001b[0;34m(\u001b[0m\u001b[0mcur\u001b[0m\u001b[0;34m)\u001b[0m\u001b[0;34m\u001b[0m\u001b[0m\n\u001b[1;32m      7\u001b[0m     \u001b[0mcosts\u001b[0m\u001b[0;34m.\u001b[0m\u001b[0mappend\u001b[0m\u001b[0;34m(\u001b[0m\u001b[0mcur\u001b[0m\u001b[0;34m)\u001b[0m\u001b[0;34m\u001b[0m\u001b[0m\n\u001b[0;32m----> 8\u001b[0;31m     \u001b[0mnewW\u001b[0m \u001b[0;34m=\u001b[0m \u001b[0mw\u001b[0m \u001b[0;34m-\u001b[0m \u001b[0;36m0.01\u001b[0m\u001b[0;34m*\u001b[0m\u001b[0mfindDerivW\u001b[0m\u001b[0;34m(\u001b[0m\u001b[0mw\u001b[0m\u001b[0;34m,\u001b[0m\u001b[0mb\u001b[0m\u001b[0;34m)\u001b[0m\u001b[0;34m\u001b[0m\u001b[0m\n\u001b[0m\u001b[1;32m      9\u001b[0m     \u001b[0mnewB\u001b[0m \u001b[0;34m=\u001b[0m \u001b[0mb\u001b[0m \u001b[0;34m-\u001b[0m \u001b[0;36m0.01\u001b[0m\u001b[0;34m*\u001b[0m\u001b[0mfindDerivB\u001b[0m\u001b[0;34m(\u001b[0m\u001b[0mw\u001b[0m\u001b[0;34m,\u001b[0m\u001b[0mb\u001b[0m\u001b[0;34m)\u001b[0m\u001b[0;34m\u001b[0m\u001b[0m\n\u001b[1;32m     10\u001b[0m     \u001b[0mw\u001b[0m \u001b[0;34m=\u001b[0m \u001b[0mnewW\u001b[0m\u001b[0;34m\u001b[0m\u001b[0m\n",
      "\u001b[0;32m<ipython-input-3-734b4f40c3e6>\u001b[0m in \u001b[0;36mfindDerivW\u001b[0;34m(cw, cb)\u001b[0m\n\u001b[1;32m      9\u001b[0m     \u001b[0ms\u001b[0m \u001b[0;34m=\u001b[0m \u001b[0;36m0\u001b[0m\u001b[0;34m\u001b[0m\u001b[0m\n\u001b[1;32m     10\u001b[0m     \u001b[0;32mfor\u001b[0m \u001b[0mi\u001b[0m \u001b[0;32min\u001b[0m \u001b[0mrange\u001b[0m\u001b[0;34m(\u001b[0m\u001b[0mlen\u001b[0m\u001b[0;34m(\u001b[0m\u001b[0mX\u001b[0m\u001b[0;34m)\u001b[0m\u001b[0;34m)\u001b[0m\u001b[0;34m:\u001b[0m\u001b[0;34m\u001b[0m\u001b[0m\n\u001b[0;32m---> 11\u001b[0;31m         \u001b[0ms\u001b[0m \u001b[0;34m+=\u001b[0m \u001b[0mg\u001b[0m\u001b[0;34m.\u001b[0m\u001b[0mgetDeriv\u001b[0m\u001b[0;34m(\u001b[0m\u001b[0;36m1\u001b[0m\u001b[0;34m,\u001b[0m\u001b[0;34m[\u001b[0m\u001b[0mX\u001b[0m\u001b[0;34m[\u001b[0m\u001b[0mi\u001b[0m\u001b[0;34m]\u001b[0m\u001b[0;34m,\u001b[0m\u001b[0mcw\u001b[0m\u001b[0;34m,\u001b[0m \u001b[0mcb\u001b[0m\u001b[0;34m,\u001b[0m \u001b[0mY\u001b[0m\u001b[0;34m[\u001b[0m\u001b[0mi\u001b[0m\u001b[0;34m]\u001b[0m\u001b[0;34m]\u001b[0m\u001b[0;34m)\u001b[0m   \u001b[0;31m#this deriv is broken\u001b[0m\u001b[0;34m\u001b[0m\u001b[0m\n\u001b[0m\u001b[1;32m     12\u001b[0m     \u001b[0;32mreturn\u001b[0m \u001b[0ms\u001b[0m\u001b[0;34m/\u001b[0m\u001b[0mlen\u001b[0m\u001b[0;34m(\u001b[0m\u001b[0mX\u001b[0m\u001b[0;34m)\u001b[0m\u001b[0;34m\u001b[0m\u001b[0m\n\u001b[1;32m     13\u001b[0m \u001b[0;32mdef\u001b[0m \u001b[0mfindDerivB\u001b[0m\u001b[0;34m(\u001b[0m\u001b[0mcw\u001b[0m\u001b[0;34m,\u001b[0m\u001b[0mcb\u001b[0m\u001b[0;34m)\u001b[0m\u001b[0;34m:\u001b[0m\u001b[0;34m\u001b[0m\u001b[0m\n",
      "\u001b[0;32mvariable.pyx\u001b[0m in \u001b[0;36mpyCalc.var.getDeriv (variable.cpp:3315)\u001b[0;34m()\u001b[0m\n",
      "\u001b[0;31mTypeError\u001b[0m: must be str, not int"
     ]
    }
   ],
   "source": [
    "costs = []\n",
    "w = 1\n",
    "b = 5\n",
    "for it in range(50):\n",
    "    cur = findCost(w,b)\n",
    "    print(cur)\n",
    "    costs.append(cur)\n",
    "    newW = w - 0.01*findDerivW(w,b)\n",
    "    newB = b - 0.01*findDerivB(w,b)\n",
    "    w = newW\n",
    "    b = newB\n",
    "plt.plot(costs)\n",
    "plt.show()"
   ]
  },
  {
   "cell_type": "code",
   "execution_count": null,
   "metadata": {
    "collapsed": true
   },
   "outputs": [],
   "source": []
  }
 ],
 "metadata": {
  "kernelspec": {
   "display_name": "Python 3",
   "language": "python",
   "name": "python3"
  },
  "language_info": {
   "codemirror_mode": {
    "name": "ipython",
    "version": 3
   },
   "file_extension": ".py",
   "mimetype": "text/x-python",
   "name": "python",
   "nbconvert_exporter": "python",
   "pygments_lexer": "ipython3",
   "version": "3.6.0"
  }
 },
 "nbformat": 4,
 "nbformat_minor": 2
}
