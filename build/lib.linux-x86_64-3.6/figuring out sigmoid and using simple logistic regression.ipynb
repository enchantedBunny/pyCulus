{
 "cells": [
  {
   "cell_type": "code",
   "execution_count": 8,
   "metadata": {
    "collapsed": false
   },
   "outputs": [],
   "source": [
    "import pyCalc as p\n",
    "import matplotlib.pyplot as plt\n",
    "from random import *"
   ]
  },
  {
   "cell_type": "code",
   "execution_count": 9,
   "metadata": {
    "collapsed": false
   },
   "outputs": [
    {
     "name": "stdout",
     "output_type": "stream",
     "text": [
      "the 0th deriv of this isc\n",
      "the 0th deriv of this is( -1.000000 * ( exp( 0.000000 - g2 ) ) )\n",
      "the 0th deriv of this is( 1.000000 * ( -1.000000 * ( exp( 0.000000 - g2 ) ) ) )\n",
      "the 0th deriv of this is( ( ( -1.000000 * 1.000000 ) / ( ( ( exp( 0.000000 - g2 ) ) + 1.000000 ) * ( ( exp( 0.000000 - g2 ) ) + 1.000000 ) ) ) * ( 1.000000 * ( -1.000000 * ( exp( 0.000000 - g2 ) ) ) ) )\n",
      "the 0th deriv of this isc\n",
      "the 0th deriv of this is( -1.000000 * ( exp( 0.000000 - g12 ) ) )\n",
      "the 0th deriv of this is( 1.000000 * ( -1.000000 * ( exp( 0.000000 - g12 ) ) ) )\n",
      "the 0th deriv of this is( ( ( -1.000000 * 1.000000 ) / ( ( ( exp( 0.000000 - g12 ) ) + 1.000000 ) * ( ( exp( 0.000000 - g12 ) ) + 1.000000 ) ) ) * ( 1.000000 * ( -1.000000 * ( exp( 0.000000 - g12 ) ) ) ) )\n"
     ]
    }
   ],
   "source": [
    "out, a, one, zero, negone,c, c1, c2, act1,act = p.var(),p.var('i'), p.var('c', 1), p.var('c', 0),p.var('c', -1), p.var(),p.var(),p.var(),p.var(),p.var()\n",
    "c2.f(zero, a, '-')\n",
    "c1.exp(c2) #exp(-x)\n",
    "c.f(c1,one,'+') #1+exp(-x)\n",
    "out.f(one, c, '/')\n",
    "out, a, one, zero, negone,c, c1, c2, act1,act = p.var(),p.var('i'), p.var('c', 1), p.var('c', 0),p.var('c', -1), p.var(),p.var(),p.var(),p.var(),p.var()\n",
    "c2.f(zero, a, '-')\n",
    "c1.exp(c2) #exp(-x)\n",
    "c.f(c1,one,'+') #1+exp(-x)\n",
    "out.f(one, c, '/')"
   ]
  },
  {
   "cell_type": "code",
   "execution_count": 10,
   "metadata": {
    "collapsed": false
   },
   "outputs": [
    {
     "data": {
      "image/png": "[encoded data removed]",
      "text/plain": [
       "<matplotlib.figure.Figure at 0x7f0de2322908>"
      ]
     },
     "metadata": {},
     "output_type": "display_data"
    }
   ],
   "source": [
    "xx = [i/10 for i in range(-40,50)]\n",
    "ys = [out.value([i]) for i in xx]\n",
    "plt.plot(xx,ys)\n",
    "plt.title('Sigmoid')\n",
    "plt.show()"
   ]
  },
  {
   "cell_type": "code",
   "execution_count": 11,
   "metadata": {
    "collapsed": false
   },
   "outputs": [
    {
     "data": {
      "image/png": "[encoded data removed]",
      "text/plain": [
       "<matplotlib.figure.Figure at 0x7f0de23228d0>"
      ]
     },
     "metadata": {},
     "output_type": "display_data"
    }
   ],
   "source": [
    "xx = [i/10 for i in range(-40,50)]\n",
    "ys = [out.getDeriv(0,[i]) for i in xx]\n",
    "plt.plot(xx,ys)\n",
    "plt.title('Computed derivative of the sigmoid')\n",
    "plt.show()"
   ]
  },
  {
   "cell_type": "code",
   "execution_count": 14,
   "metadata": {
    "collapsed": false
   },
   "outputs": [
    {
     "name": "stdout",
     "output_type": "stream",
     "text": [
      "Output After Training:\n",
      "[[ 0.00966449]\n",
      " [ 0.00786506]\n",
      " [ 0.99358892]\n",
      " [ 0.99211955]]\n"
     ]
    }
   ],
   "source": [
    "import numpy as np\n",
    "\n",
    "# sigmoid function\n",
    "def nonlin(x,deriv=False):\n",
    "    if(deriv==True):\n",
    "        return out.getDeriv(0,[x])\n",
    "    return out.value([x])\n",
    "nonlin = np.vectorize(nonlin)\n",
    "X = np.array([  [0,0,1],\n",
    "                [0,1,1],\n",
    "                [1,0,1],\n",
    "                [1,1,1] ])         \n",
    "y = np.array([[0,0,1,1]]).T\n",
    "np.random.seed(1)\n",
    "syn0 = 2*np.random.random((3,1)) - 1\n",
    "\n",
    "for iter in range(10000):\n",
    "    l0 = X\n",
    "    l1 = nonlin(np.dot(l0,syn0))\n",
    "    l1_error = y - l1\n",
    "    l1_delta = l1_error * nonlin(np.dot(l0,syn0),True)\n",
    "    syn0 += np.dot(l0.T,l1_delta)\n",
    "print (\"Output After Training:\")\n",
    "print (l1)\n"
   ]
  },
  {
   "cell_type": "code",
   "execution_count": 15,
   "metadata": {
    "collapsed": false
   },
   "outputs": [
    {
     "name": "stdout",
     "output_type": "stream",
     "text": [
      "the 0th deriv of this is( ( 1.000000 - ( sigg23 ) ) * ( sigg23 ) )\n",
      "Output After Training:\n",
      "[[ 0.00966449]\n",
      " [ 0.00786506]\n",
      " [ 0.99358892]\n",
      " [ 0.99211955]]\n"
     ]
    }
   ],
   "source": [
    "import numpy as np\n",
    "import pyCalc as p\n",
    "j = p.var('i')\n",
    "sig = p.var()\n",
    "sig.sigmoid(j)\n",
    "def nonlin(x,deriv=False):\n",
    "    if(deriv==True):\n",
    "        return sig.getDeriv(0,[x])\n",
    "    return sig.value([x])\n",
    "nonlin = np.vectorize(nonlin)\n",
    "X = np.array([  [0,0,1],\n",
    "                [0,1,1],\n",
    "                [1,0,1],\n",
    "                [1,1,1] ])         \n",
    "y = np.array([[0,0,1,1]]).T\n",
    "np.random.seed(1)\n",
    "syn0 = 2*np.random.random((3,1)) - 1\n",
    "\n",
    "for iter in range(10000):\n",
    "    l0 = X\n",
    "    l1 = nonlin(np.dot(l0,syn0))\n",
    "    l1_error = y - l1\n",
    "    l1_delta = l1_error * nonlin(np.dot(l0,syn0),True)\n",
    "    syn0 += np.dot(l0.T,l1_delta)\n",
    "print (\"Output After Training:\")\n",
    "print (l1)\n"
   ]
  },
  {
   "cell_type": "code",
   "execution_count": 17,
   "metadata": {
    "collapsed": false
   },
   "outputs": [
    {
     "data": {
      "text/plain": [
       "array([[-0.39533485],\n",
       "       [-0.70648822],\n",
       "       [-0.81532281]])"
      ]
     },
     "execution_count": 17,
     "metadata": {},
     "output_type": "execute_result"
    }
   ],
   "source": [
    "xs = [[0,0,1],[0,1,1], [1,0,1], [1,1,1] ]   \n",
    "syn0 = 2*np.random.random((3,1)) - 1\n",
    "syn0"
   ]
  },
  {
   "cell_type": "code",
   "execution_count": 50,
   "metadata": {
    "collapsed": false
   },
   "outputs": [
    {
     "name": "stdout",
     "output_type": "stream",
     "text": [
      "the 0th deriv of this is( ( 1.000000 - ( sigg89 ) ) * ( sigg89 ) )\n",
      "Output After Training:\n",
      "[0.031947072595357895, 0.025723086670041084, 0.9791288375854492, 0.9740476012229919]\n"
     ]
    }
   ],
   "source": [
    "import pyCalc as p\n",
    "j = p.var('i')\n",
    "sig = p.var()\n",
    "sig.sigmoid(j)\n",
    "def nonlin(x,deriv=False):\n",
    "    if(deriv==True):\n",
    "        return sig.getDeriv(0,[x])\n",
    "    return sig.value([x])\n",
    "xs = [[0,0,1],[0,1,1], [1,0,1], [1,1,1] ]         \n",
    "y = [0,0,1,1]\n",
    "syn0 = [-0.39533485, -0.70648822, -0.81532281]\n",
    "for iter in range(1000):\n",
    "    l0 = xs\n",
    "    l1 = [nonlin(sum(ii[0] * ii[1] for ii in zip(i, syn0))) for i in xs ]\n",
    "    l1_error = [ii[0] - ii[1] for ii in zip(y, l1)]\n",
    "    l1_delta = [l1_error[i]* nonlin(sum(ii[0] * ii[1] for ii in zip(xs[i], syn0)),True)  for i in range(len(l1_error))]\n",
    "    hlp = [[iji * l1_delta[iii] for iji in xs[iii]] for iii in range(len(xs)) ]\n",
    "    temp0 = [sum([no[i] for no in hlp]) for i in range(len(syn0))]\n",
    "    syn0 = [sum(x) for x in zip(syn0, temp0)]\n",
    "print (\"Output After Training:\")\n",
    "print (l1)\n"
   ]
  },
  {
   "cell_type": "code",
   "execution_count": null,
   "metadata": {
    "collapsed": true
   },
   "outputs": [],
   "source": []
  }
 ],
 "metadata": {
  "kernelspec": {
   "display_name": "Python 3",
   "language": "python",
   "name": "python3"
  },
  "language_info": {
   "codemirror_mode": {
    "name": "ipython",
    "version": 3
   },
   "file_extension": ".py",
   "mimetype": "text/x-python",
   "name": "python",
   "nbconvert_exporter": "python",
   "pygments_lexer": "ipython3",
   "version": "3.6.0"
  }
 },
 "nbformat": 4,
 "nbformat_minor": 2
}
