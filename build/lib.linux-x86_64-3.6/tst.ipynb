{
 "cells": [
  {
   "cell_type": "code",
   "execution_count": 1,
   "metadata": {
    "collapsed": false
   },
   "outputs": [],
   "source": [
    "import pyCalc as p"
   ]
  },
  {
   "cell_type": "code",
   "execution_count": 2,
   "metadata": {
    "collapsed": false
   },
   "outputs": [
    {
     "name": "stdout",
     "output_type": "stream",
     "text": [
      "('My id is ', 1)\n",
      "('My id is ', 2)\n",
      "('My id is ', 3)\n",
      "('My id is ', 4)\n",
      "('My id is ', 5)\n",
      "('My id is ', 6)\n",
      "('My id is ', 7)\n",
      "('My id is ', 8)\n",
      "('My id is ', 9)\n",
      "('My id is ', 10)\n",
      "('My id is ', 11)\n",
      "('My id is ', 12)\n",
      "('My id is ', 13)\n",
      "('My id is ', 14)\n",
      "('My id is ', 15)\n"
     ]
    },
    {
     "data": {
      "text/plain": [
       "'This function has 3 dependencies'"
      ]
     },
     "execution_count": 2,
     "metadata": {},
     "output_type": "execute_result"
    }
   ],
   "source": [
    "c1, c2,x,c,gr, f3,eh, eh2, e8 = p.var(),p.var(),p.var(),p.var(), p.var(),p.var(),p.var(),p.var(),p.var()\n",
    "costt, cost,h, last = p.var(), p.var(), p.var(), p.var()\n",
    "c1.c(1)\n",
    "c2.c(-1)\n",
    "x.i()\n",
    "b = p.var()\n",
    "b.i()\n",
    "last.i()\n",
    "gr.f(x,last,\"*\")\n",
    "Yg = p.var()\n",
    "Yg.f(gr,b,\"+\") #z = x*b"
   ]
  },
  {
   "cell_type": "code",
   "execution_count": 3,
   "metadata": {
    "collapsed": false
   },
   "outputs": [
    {
     "data": {
      "text/plain": [
       "'This function has 3 dependencies'"
      ]
     },
     "execution_count": 3,
     "metadata": {},
     "output_type": "execute_result"
    }
   ],
   "source": [
    "f3.f(c2, Yg,'*')#-z\n",
    "eh2.exp(f3) #e^-z\n"
   ]
  },
  {
   "cell_type": "code",
   "execution_count": 4,
   "metadata": {
    "collapsed": false
   },
   "outputs": [
    {
     "data": {
      "text/plain": [
       "'This function has 3 dependencies'"
      ]
     },
     "execution_count": 4,
     "metadata": {},
     "output_type": "execute_result"
    }
   ],
   "source": [
    "eh.f(c1, eh2, \"+\") #1+e^-z\n",
    "e8.f(c1, eh, \"/\") #1/(1+e^-z)"
   ]
  },
  {
   "cell_type": "code",
   "execution_count": null,
   "metadata": {
    "collapsed": false
   },
   "outputs": [
    {
     "data": {
      "text/plain": [
       "'This function has 4 dependencies'"
      ]
     },
     "execution_count": 5,
     "metadata": {},
     "output_type": "execute_result"
    }
   ],
   "source": [
    "h.i()\n",
    "costt.f(h,e8,\"-\")"
   ]
  },
  {
   "cell_type": "code",
   "execution_count": null,
   "metadata": {
    "collapsed": false
   },
   "outputs": [],
   "source": [
    "cost.f(costt,costt,\"*\")"
   ]
  },
  {
   "cell_type": "code",
   "execution_count": null,
   "metadata": {
    "collapsed": false
   },
   "outputs": [],
   "source": [
    "costt.preview()"
   ]
  },
  {
   "cell_type": "markdown",
   "metadata": {},
   "source": [
    "import matplotlib.pyplot as plt\n",
    "x = [(i-40)/10 for i in range(80)]\n",
    "y = [e8.value([hh]) for hh in x]\n",
    "plt.plot(x,y)\n",
    "plt.show()"
   ]
  },
  {
   "cell_type": "markdown",
   "metadata": {},
   "source": [
    "x = [(i-40)/10 for i in range(80)]\n",
    "y = [e8.getDeriv(0,[hh]) for hh in x]\n",
    "plt.plot(x,y)\n",
    "plt.show()"
   ]
  },
  {
   "cell_type": "code",
   "execution_count": null,
   "metadata": {
    "collapsed": false
   },
   "outputs": [],
   "source": [
    "X = [-10, -9, -8, -7, -6, -5, -4, -3, -2 ,-1, 0, 1, 2, 3, 4, 5, 6, 7, 8, 9, 10]\n",
    "w = 2\n",
    "Y = [ 0 if (g+3<0) else 1 for g in X]\n",
    "print(X)\n",
    "print(w)\n",
    "print(Y)\n",
    "\n",
    "# import matplotlib.pyplot as plt\n",
    "# plt.plot(X,Y, 'ro')\n",
    "# plt.show()\n",
    "s = 0\n",
    "for i in range(len(X)):\n",
    "    s += cost.getDeriv(3,[1,Y[i], X[i],w])   #this deriv is broken\n",
    "s = s/len(X)\n",
    "print(s)\n",
    "import math\n",
    "def findCost(w):\n",
    "    co=0\n",
    "    for i in range(len(X)):\n",
    "        co += cost.value([1,Y[i], X[i],w]) \n",
    "    return(co/len(X))\n",
    "glop = []\n",
    "wlop = []\n",
    "slop = []"
   ]
  },
  {
   "cell_type": "code",
   "execution_count": null,
   "metadata": {
    "collapsed": false
   },
   "outputs": [],
   "source": [
    "\n",
    "for it in range (5000):\n",
    "    s = 0.0\n",
    "    for i in range(len(X)):\n",
    "        if type(s) == type(w):\n",
    "            fllg = cost.getDeriv(3,[1,Y[i], X[i],w]) \n",
    "        else:\n",
    "            print(type(w))\n",
    "            print(type(s))\n",
    "            break\n",
    "        if type(fllg) == type(s):\n",
    "            s+=fllg\n",
    "        else:\n",
    "            print(type(fllg))\n",
    "            print(type(s))\n",
    "    s = s/len(X)\n",
    "    slop.append(s)\n",
    "    glop.append(findCost(w))\n",
    "    wlop.append(w)\n",
    "    w = w + 0.02*s \n",
    "    if math.isnan(s):\n",
    "        print(\"it's nan\", it, w, s,  sep=\"   \")\n",
    "    if it % 50 == 0:\n",
    "        print(\"iter:\", it, \"cost\", glop[it], \"w:\", w,\"s:\", s, sep=\" \")\n",
    "print(wlop[0])\n",
    "print(wlop[len(wlop)-1])"
   ]
  },
  {
   "cell_type": "code",
   "execution_count": null,
   "metadata": {
    "collapsed": false
   },
   "outputs": [],
   "source": [
    "import matplotlib.pyplot as plt\n",
    "plt.plot(wlop)\n",
    "plt.show()"
   ]
  },
  {
   "cell_type": "code",
   "execution_count": null,
   "metadata": {
    "collapsed": false
   },
   "outputs": [],
   "source": [
    "plt.plot(glop)\n",
    "plt.show()"
   ]
  },
  {
   "cell_type": "code",
   "execution_count": null,
   "metadata": {
    "collapsed": false
   },
   "outputs": [],
   "source": [
    "out = [1 if e8.value([1,xx,wlop[glop.index(min(glop))]]) > 0.5 else 0 for xx in X]\n",
    "plt.plot(X,out)\n",
    "plt.show()"
   ]
  },
  {
   "cell_type": "code",
   "execution_count": null,
   "metadata": {
    "collapsed": false
   },
   "outputs": [],
   "source": [
    "plt.plot(X,Y)\n",
    "plt.show()"
   ]
  },
  {
   "cell_type": "code",
   "execution_count": null,
   "metadata": {
    "collapsed": false
   },
   "outputs": [],
   "source": [
    "acc = [1 if Y[l]==out[l] else 0 for l in range(len(Y))]\n",
    "acc = sum(acc)/len(acc)\n",
    "print(acc*100, '%')"
   ]
  },
  {
   "cell_type": "code",
   "execution_count": null,
   "metadata": {
    "collapsed": true
   },
   "outputs": [],
   "source": []
  }
 ],
 "metadata": {
  "kernelspec": {
   "display_name": "Python 3",
   "language": "python",
   "name": "python3"
  },
  "language_info": {
   "codemirror_mode": {
    "name": "ipython",
    "version": 3
   },
   "file_extension": ".py",
   "mimetype": "text/x-python",
   "name": "python",
   "nbconvert_exporter": "python",
   "pygments_lexer": "ipython3",
   "version": "3.6.0"
  }
 },
 "nbformat": 4,
 "nbformat_minor": 2
}
