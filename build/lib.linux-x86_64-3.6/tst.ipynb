{
 "cells": [
  {
   "cell_type": "code",
   "execution_count": 1,
   "metadata": {
    "collapsed": false
   },
   "outputs": [],
   "source": [
    "import pyCalc as p"
   ]
  },
  {
   "cell_type": "code",
   "execution_count": 2,
   "metadata": {
    "collapsed": false
   },
   "outputs": [
    {
     "name": "stdout",
     "output_type": "stream",
     "text": [
      "('My id is ', 1)\n",
      "('My id is ', 2)\n",
      "('My id is ', 3)\n",
      "('My id is ', 4)\n",
      "('My id is ', 5)\n",
      "('My id is ', 6)\n",
      "('My id is ', 7)\n",
      "('My id is ', 8)\n",
      "('My id is ', 9)\n",
      "('My id is ', 10)\n",
      "('My id is ', 11)\n",
      "('My id is ', 12)\n",
      "('My id is ', 13)\n",
      "('My id is ', 14)\n",
      "('My id is ', 15)\n"
     ]
    },
    {
     "data": {
      "text/plain": [
       "'This function has 3 dependencies'"
      ]
     },
     "execution_count": 2,
     "metadata": {},
     "output_type": "execute_result"
    }
   ],
   "source": [
    "c1, c2,x,c,gr, f3,eh, eh2, e8 = p.var(),p.var(),p.var(),p.var(), p.var(),p.var(),p.var(),p.var(),p.var()\n",
    "costt, cost,h, last = p.var(), p.var(), p.var(), p.var()\n",
    "c1.c(1)\n",
    "c2.c(-1)\n",
    "x.i()\n",
    "b = p.var()\n",
    "b.i()\n",
    "last.i()\n",
    "gr.f(x,last,'*')\n",
    "Yg = p.var()\n",
    "Yg.f(gr,b,\"+\") #z = x*b"
   ]
  },
  {
   "cell_type": "code",
   "execution_count": 3,
   "metadata": {
    "collapsed": false
   },
   "outputs": [
    {
     "data": {
      "text/plain": [
       "'This function has 3 dependencies'"
      ]
     },
     "execution_count": 3,
     "metadata": {},
     "output_type": "execute_result"
    }
   ],
   "source": [
    "f3.f(c2, Yg,'*')#-z\n",
    "eh2.exp(f3) #e^-z\n"
   ]
  },
  {
   "cell_type": "code",
   "execution_count": 4,
   "metadata": {
    "collapsed": false
   },
   "outputs": [
    {
     "data": {
      "text/plain": [
       "'This function has 3 dependencies'"
      ]
     },
     "execution_count": 4,
     "metadata": {},
     "output_type": "execute_result"
    }
   ],
   "source": [
    "eh.f(c1, eh2, \"+\") #1+e^-z\n",
    "e8.f(c1, eh, \"/\") #1/(1+e^-z)"
   ]
  },
  {
   "cell_type": "code",
   "execution_count": 5,
   "metadata": {
    "collapsed": false
   },
   "outputs": [
    {
     "data": {
      "text/plain": [
       "'This function has 4 dependencies'"
      ]
     },
     "execution_count": 5,
     "metadata": {},
     "output_type": "execute_result"
    }
   ],
   "source": [
    "h.i()\n",
    "costt.f(h,e8,\"-\")"
   ]
  },
  {
   "cell_type": "code",
   "execution_count": 6,
   "metadata": {
    "collapsed": false
   },
   "outputs": [
    {
     "data": {
      "text/plain": [
       "'This function has 4 dependencies'"
      ]
     },
     "execution_count": 6,
     "metadata": {},
     "output_type": "execute_result"
    }
   ],
   "source": [
    "cost.pow(costt,2)"
   ]
  },
  {
   "cell_type": "code",
   "execution_count": 7,
   "metadata": {
    "collapsed": false
   },
   "outputs": [
    {
     "name": "stdout",
     "output_type": "stream",
     "text": [
      "( pow( v12 - ( 1.000000 / ( 1.000000 + ( exp( -1.000000 * ( ( v3 * v13 ) + v14 ) ) ) ) ) ) )\n"
     ]
    }
   ],
   "source": [
    "cost.preview()"
   ]
  },
  {
   "cell_type": "markdown",
   "metadata": {},
   "source": [
    "import matplotlib.pyplot as plt\n",
    "x = [(i-40)/10 for i in range(80)]\n",
    "y = [e8.value([hh]) for hh in x]\n",
    "plt.plot(x,y)\n",
    "plt.show()"
   ]
  },
  {
   "cell_type": "markdown",
   "metadata": {},
   "source": [
    "x = [(i-40)/10 for i in range(80)]\n",
    "y = [e8.getDeriv(0,[hh]) for hh in x]\n",
    "plt.plot(x,y)\n",
    "plt.show()"
   ]
  },
  {
   "cell_type": "code",
   "execution_count": 8,
   "metadata": {
    "collapsed": false
   },
   "outputs": [
    {
     "name": "stdout",
     "output_type": "stream",
     "text": [
      "[-10, -9, -8, -7, -6, -5, -4, -3, -2, -1, 0, 1, 2, 3, 4, 5, 6, 7, 8, 9, 10]\n",
      "-5\n",
      "[0, 0, 0, 0, 0, 0, 0, 1, 1, 1, 1, 1, 1, 1, 1, 1, 1, 1, 1, 1, 1]\n"
     ]
    }
   ],
   "source": [
    "X = [-10, -9, -8, -7, -6, -5, -4, -3, -2 ,-1, 0, 1, 2, 3, 4, 5, 6, 7, 8, 9, 10]\n",
    "w = -5\n",
    "Y = [ 0 if (g+3<0) else 1 for g in X]\n",
    "print(X)\n",
    "print(w)\n",
    "print(Y)\n",
    "def findCost(cw):\n",
    "    co=0\n",
    "    for i in range(len(X)):\n",
    "        co += cost.value([1,Y[i], X[i],cw]) \n",
    "    return(co/len(X))\n",
    "def findDeriv(cw):\n",
    "    s = 0\n",
    "    for i in range(len(X)):\n",
    "        s += cost.getDeriv(3,[1,Y[i], X[i],cw])   #this deriv is broken\n",
    "    return s/len(X)\n",
    "# import matplotlib.pyplot as plt\n",
    "# plt.plot(X,Y, 'ro')\n",
    "# plt.show()\n",
    "import math\n",
    "glop = []\n",
    "wlop = []\n",
    "slop = []"
   ]
  },
  {
   "cell_type": "code",
   "execution_count": 9,
   "metadata": {
    "collapsed": false
   },
   "outputs": [
    {
     "name": "stdout",
     "output_type": "stream",
     "text": [
      "iter: 0 cost 0.35716110868686746 w: -4.98 s: 1.0\n",
      "iter: 50 cost 0.30957428860889846 w: -3.9800000000000213 s: 1.0\n",
      "iter: 100 cost 0.2620420476305916 w: -2.9800000000000204 s: 1.0\n",
      "iter: 150 cost 0.21465849359243247 w: -1.9800000000000195 s: 1.0\n",
      "iter: 200 cost 0.16767685741352675 w: -0.9800000000000186 s: 1.0\n",
      "iter: 250 cost 0.12177078348597888 w: 0.019999999999981966 s: 1.0\n",
      "iter: 300 cost 0.07866848362872071 w: 1.0199999999999825 s: 1.0\n",
      "iter: 350 cost 0.042402093824326435 w: 2.019999999999983 s: 1.0\n",
      "iter: 400 cost 0.020396509168056992 w: 3.019999999999984 s: 1.0\n",
      "iter: 450 cost 0.020396469643602342 w: 4.0199999999999845 s: 1.0\n",
      "iter: 500 cost 0.04240175851807662 w: 5.019999999999963 s: 1.0\n",
      "iter: 550 cost 0.07866600824197671 w: 6.019999999999942 s: 1.0\n",
      "iter: 600 cost 0.12175290310743492 w: 7.0199999999999205 s: 1.0\n",
      "iter: 650 cost 0.1675518716713667 w: 8.0199999999999 s: 1.0\n",
      "iter: 700 cost 0.21385687355689986 w: 9.019999999999879 s: 1.0\n",
      "iter: 750 cost 0.2577961771423186 w: 10.019999999999857 s: 1.0\n",
      "iter: 800 cost 0.29342370141695134 w: 11.019999999999836 s: 1.0\n",
      "iter: 850 cost 0.3155609718261073 w: 12.019999999999815 s: 1.0\n",
      "iter: 900 cost 0.3262252496538472 w: 13.019999999999794 s: 1.0\n",
      "iter: 950 cost 0.3306305664080036 w: 14.019999999999772 s: 1.0\n",
      "iter: 1000 cost 0.3323265456039134 w: 15.01999999999975 s: 1.0\n",
      "iter: 1050 cost 0.3329612328895505 w: 16.01999999999973 s: 1.0\n",
      "iter: 1100 cost 0.33319620859059285 w: 17.01999999999971 s: 1.0\n",
      "iter: 1150 cost 0.33328285103753175 w: 18.019999999999687 s: 1.0\n",
      "iter: 1200 cost 0.3333147480374298 w: 19.019999999999666 s: 1.0\n",
      "iter: 1250 cost 0.3333264873141334 w: 20.019999999999644 s: 1.0\n",
      "iter: 1300 cost 0.33333081290835426 w: 21.019999999999623 s: 1.0\n",
      "iter: 1350 cost 0.3333324023655483 w: 22.0199999999996 s: 1.0\n",
      "iter: 1400 cost 0.3333329927353632 w: 23.01999999999958 s: 1.0\n",
      "iter: 1450 cost 0.33333320844741093 w: 24.01999999999956 s: 1.0\n",
      "iter: 1500 cost 0.33333328792027067 w: 25.019999999999538 s: 1.0\n",
      "iter: 1550 cost 0.33333332198006765 w: 26.019999999999516 s: 1.0\n",
      "iter: 1600 cost 0.3333333333333333 w: 27.019999999999495 s: 1.0\n",
      "iter: 1650 cost 0.3333333333333333 w: 28.019999999999474 s: 1.0\n",
      "iter: 1700 cost 0.3333333333333333 w: 29.019999999999452 s: 1.0\n",
      "iter: 1750 cost 0.3333333333333333 w: 30.01999999999943 s: 1.0\n",
      "iter: 1800 cost 0.3333333333333333 w: 31.01999999999941 s: 1.0\n",
      "iter: 1850 cost 0.3333333333333333 w: 32.01999999999939 s: 1.0\n",
      "iter: 1900 cost 0.3333333333333333 w: 33.01999999999955 s: 1.0\n",
      "iter: 1950 cost 0.3333333333333333 w: 34.019999999999705 s: 1.0\n",
      "iter: 2000 cost 0.3333333333333333 w: 35.01999999999986 s: 1.0\n",
      "iter: 2050 cost 0.3333333333333333 w: 36.02000000000002 s: 1.0\n",
      "iter: 2100 cost 0.3333333333333333 w: 37.020000000000174 s: 1.0\n",
      "iter: 2150 cost 0.3333333333333333 w: 38.02000000000033 s: 1.0\n",
      "iter: 2200 cost 0.3333333333333333 w: 39.020000000000486 s: 1.0\n",
      "iter: 2250 cost 0.3333333333333333 w: 40.02000000000064 s: 1.0\n",
      "iter: 2300 cost 0.3333333333333333 w: 41.0200000000008 s: 1.0\n",
      "iter: 2350 cost 0.3333333333333333 w: 42.020000000000955 s: 1.0\n",
      "iter: 2400 cost 0.3333333333333333 w: 43.02000000000111 s: 1.0\n",
      "iter: 2450 cost 0.3333333333333333 w: 44.02000000000127 s: 1.0\n",
      "iter: 2500 cost 0.3333333333333333 w: 45.020000000001424 s: 1.0\n",
      "iter: 2550 cost 0.3333333333333333 w: 46.02000000000158 s: 1.0\n",
      "iter: 2600 cost 0.3333333333333333 w: 47.02000000000174 s: 1.0\n",
      "iter: 2650 cost 0.3333333333333333 w: 48.02000000000189 s: 1.0\n",
      "iter: 2700 cost 0.3333333333333333 w: 49.02000000000205 s: 1.0\n",
      "iter: 2750 cost 0.3333333333333333 w: 50.020000000002206 s: 1.0\n",
      "iter: 2800 cost 0.3333333333333333 w: 51.02000000000236 s: 1.0\n",
      "iter: 2850 cost 0.3333333333333333 w: 52.02000000000252 s: 1.0\n",
      "iter: 2900 cost 0.3333333333333333 w: 53.020000000002675 s: 1.0\n",
      "iter: 2950 cost 0.3333333333333333 w: 54.02000000000283 s: 1.0\n",
      "iter: 3000 cost 0.3333333333333333 w: 55.02000000000299 s: 1.0\n",
      "iter: 3050 cost 0.3333333333333333 w: 56.020000000003144 s: 1.0\n",
      "iter: 3100 cost 0.3333333333333333 w: 57.0200000000033 s: 1.0\n",
      "iter: 3150 cost 0.3333333333333333 w: 58.020000000003456 s: 1.0\n",
      "iter: 3200 cost 0.3333333333333333 w: 59.02000000000361 s: 1.0\n",
      "iter: 3250 cost 0.3333333333333333 w: 60.02000000000377 s: 1.0\n",
      "iter: 3300 cost 0.3333333333333333 w: 61.020000000003925 s: 1.0\n",
      "iter: 3350 cost 0.3333333333333333 w: 62.02000000000408 s: 1.0\n",
      "iter: 3400 cost 0.3333333333333333 w: 63.02000000000424 s: 1.0\n",
      "iter: 3450 cost 0.3333333333333333 w: 64.02000000000439 s: 1.0\n",
      "iter: 3500 cost 0.3333333333333333 w: 65.02000000000419 s: 1.0\n",
      "iter: 3550 cost 0.3333333333333333 w: 66.02000000000399 s: 1.0\n",
      "iter: 3600 cost 0.3333333333333333 w: 67.02000000000379 s: 1.0\n",
      "iter: 3650 cost 0.3333333333333333 w: 68.02000000000359 s: 1.0\n",
      "iter: 3700 cost 0.3333333333333333 w: 69.02000000000339 s: 1.0\n",
      "iter: 3750 cost 0.3333333333333333 w: 70.0200000000032 s: 1.0\n",
      "iter: 3800 cost 0.3333333333333333 w: 71.020000000003 s: 1.0\n",
      "iter: 3850 cost 0.3333333333333333 w: 72.0200000000028 s: 1.0\n",
      "iter: 3900 cost 0.3333333333333333 w: 73.0200000000026 s: 1.0\n",
      "iter: 3950 cost 0.3333333333333333 w: 74.0200000000024 s: 1.0\n",
      "iter: 4000 cost 0.3333333333333333 w: 75.0200000000022 s: 1.0\n",
      "iter: 4050 cost 0.3333333333333333 w: 76.020000000002 s: 1.0\n",
      "iter: 4100 cost 0.3333333333333333 w: 77.0200000000018 s: 1.0\n",
      "iter: 4150 cost 0.3333333333333333 w: 78.0200000000016 s: 1.0\n",
      "iter: 4200 cost 0.3333333333333333 w: 79.0200000000014 s: 1.0\n",
      "iter: 4250 cost 0.3333333333333333 w: 80.0200000000012 s: 1.0\n",
      "iter: 4300 cost 0.3333333333333333 w: 81.020000000001 s: 1.0\n",
      "iter: 4350 cost 0.3333333333333333 w: 82.0200000000008 s: 1.0\n",
      "iter: 4400 cost 0.3333333333333333 w: 83.0200000000006 s: 1.0\n",
      "iter: 4450 cost 0.3333333333333333 w: 84.02000000000041 s: 1.0\n",
      "iter: 4500 cost 0.3333333333333333 w: 85.02000000000021 s: 1.0\n",
      "iter: 4550 cost 0.3333333333333333 w: 86.02000000000001 s: 1.0\n",
      "iter: 4600 cost 0.3333333333333333 w: 87.01999999999981 s: 1.0\n",
      "iter: 4650 cost 0.3333333333333333 w: 88.01999999999961 s: 1.0\n",
      "iter: 4700 cost 0.3333333333333333 w: 89.01999999999941 s: 1.0\n",
      "iter: 4750 cost 0.3333333333333333 w: 90.01999999999921 s: 1.0\n",
      "iter: 4800 cost 0.3333333333333333 w: 91.01999999999902 s: 1.0\n",
      "iter: 4850 cost 0.3333333333333333 w: 92.01999999999882 s: 1.0\n",
      "iter: 4900 cost 0.3333333333333333 w: 93.01999999999862 s: 1.0\n",
      "iter: 4950 cost 0.3333333333333333 w: 94.01999999999842 s: 1.0\n",
      "-5\n",
      "94.97999999999823\n"
     ]
    }
   ],
   "source": [
    "\n",
    "for it in range (5000):\n",
    "    s = findDeriv(w)\n",
    "    slop.append(s)\n",
    "    glop.append(findCost(w))\n",
    "    wlop.append(w)\n",
    "    w = w + 0.02*s \n",
    "    if math.isnan(s):\n",
    "        print(\"it's nan\", it, w, s,  sep=\"   \")\n",
    "    if it % 50 == 0:\n",
    "        print(\"iter:\", it, \"cost\", glop[it], \"w:\", w,\"s:\", s, sep=\" \")\n",
    "print(wlop[0])\n",
    "print(wlop[len(wlop)-1])"
   ]
  },
  {
   "cell_type": "code",
   "execution_count": 10,
   "metadata": {
    "collapsed": false
   },
   "outputs": [
    {
     "data": {
      "image/png": "[encoded data removed]",
      "text/plain": [
       "<matplotlib.figure.Figure at 0x7fb04ca21ac8>"
      ]
     },
     "metadata": {},
     "output_type": "display_data"
    }
   ],
   "source": [
    "import matplotlib.pyplot as plt\n",
    "plt.plot(wlop)\n",
    "plt.show()"
   ]
  },
  {
   "cell_type": "code",
   "execution_count": 11,
   "metadata": {
    "collapsed": false
   },
   "outputs": [
    {
     "data": {
      "image/png": "[encoded data removed]",
      "text/plain": [
       "<matplotlib.figure.Figure at 0x7fb024666ba8>"
      ]
     },
     "metadata": {},
     "output_type": "display_data"
    }
   ],
   "source": [
    "plt.plot(glop)\n",
    "plt.show()"
   ]
  },
  {
   "cell_type": "code",
   "execution_count": 12,
   "metadata": {
    "collapsed": false
   },
   "outputs": [
    {
     "data": {
      "image/png": "[encoded data removed]",
      "text/plain": [
       "<matplotlib.figure.Figure at 0x7fb0245a8d68>"
      ]
     },
     "metadata": {},
     "output_type": "display_data"
    }
   ],
   "source": [
    "plt.plot(slop)\n",
    "plt.show()"
   ]
  },
  {
   "cell_type": "code",
   "execution_count": 13,
   "metadata": {
    "collapsed": false
   },
   "outputs": [
    {
     "data": {
      "image/png": "[encoded data removed]",
      "text/plain": [
       "<matplotlib.figure.Figure at 0x7fb0244d3b70>"
      ]
     },
     "metadata": {},
     "output_type": "display_data"
    }
   ],
   "source": [
    "out = [1 if e8.value([1,xx,wlop[glop.index(min(glop))]]) > 0.5 else 0 for xx in X]\n",
    "plt.plot(X,out)\n",
    "plt.show()"
   ]
  },
  {
   "cell_type": "code",
   "execution_count": 14,
   "metadata": {
    "collapsed": false
   },
   "outputs": [
    {
     "data": {
      "image/png": "[encoded data removed]",
      "text/plain": [
       "<matplotlib.figure.Figure at 0x7fb024671a58>"
      ]
     },
     "metadata": {},
     "output_type": "display_data"
    }
   ],
   "source": [
    "plt.plot(X,Y)\n",
    "plt.show()"
   ]
  },
  {
   "cell_type": "code",
   "execution_count": 15,
   "metadata": {
    "collapsed": false
   },
   "outputs": [
    {
     "name": "stdout",
     "output_type": "stream",
     "text": [
      "100.0 %\n"
     ]
    }
   ],
   "source": [
    "acc = [1 if Y[l]==out[l] else 0 for l in range(len(Y))]\n",
    "acc = sum(acc)/len(acc)\n",
    "print(acc*100, '%')"
   ]
  },
  {
   "cell_type": "code",
   "execution_count": 16,
   "metadata": {
    "collapsed": false
   },
   "outputs": [
    {
     "data": {
      "image/png": "[encoded data removed]",
      "text/plain": [
       "<matplotlib.figure.Figure at 0x7fb024421e10>"
      ]
     },
     "metadata": {},
     "output_type": "display_data"
    }
   ],
   "source": [
    "plt.plot([cost.getDeriv(3,[1,Y[i], X[i],wlop[glop.index(min(glop))]]) for i in range(len(X))])\n",
    "plt.show()"
   ]
  },
  {
   "cell_type": "code",
   "execution_count": 17,
   "metadata": {
    "collapsed": false
   },
   "outputs": [
    {
     "data": {
      "image/png": "[encoded data removed]",
      "text/plain": [
       "<matplotlib.figure.Figure at 0x7fb0244f6be0>"
      ]
     },
     "metadata": {},
     "output_type": "display_data"
    }
   ],
   "source": [
    "plt.plot([cost.getDeriv(2,[1,Y[i], X[i],wlop[glop.index(min(glop))]]) for i in range(len(X))])\n",
    "plt.show()"
   ]
  },
  {
   "cell_type": "code",
   "execution_count": 18,
   "metadata": {
    "collapsed": false
   },
   "outputs": [
    {
     "data": {
      "image/png": "[encoded data removed]",
      "text/plain": [
       "<matplotlib.figure.Figure at 0x7fb024299e80>"
      ]
     },
     "metadata": {},
     "output_type": "display_data"
    }
   ],
   "source": [
    "plt.plot(X,[cost.getDeriv(1,[1,Y[i], X[i],wlop[glop.index(min(glop))]]) for i in range(len(X))])\n",
    "plt.show()"
   ]
  },
  {
   "cell_type": "code",
   "execution_count": 19,
   "metadata": {
    "collapsed": false,
    "scrolled": true
   },
   "outputs": [
    {
     "data": {
      "image/png": "[encoded data removed]",
      "text/plain": [
       "<matplotlib.figure.Figure at 0x7fb024230e80>"
      ]
     },
     "metadata": {},
     "output_type": "display_data"
    }
   ],
   "source": [
    "plt.plot([cost.getDeriv(0,[1,Y[i], X[i],wlop[glop.index(min(glop))]]) for i in range(len(X))])\n",
    "plt.show()"
   ]
  },
  {
   "cell_type": "code",
   "execution_count": 20,
   "metadata": {
    "collapsed": false,
    "scrolled": false
   },
   "outputs": [
    {
     "name": "stdout",
     "output_type": "stream",
     "text": [
      "( pow( v12 - ( 1.000000 / ( 1.000000 + ( exp( -1.000000 * ( ( v3 * v13 ) + v14 ) ) ) ) ) ) )\n"
     ]
    }
   ],
   "source": [
    "cost.preview()"
   ]
  },
  {
   "cell_type": "code",
   "execution_count": 21,
   "metadata": {
    "collapsed": false
   },
   "outputs": [
    {
     "data": {
      "image/png": "[encoded data removed]",
      "text/plain": [
       "<matplotlib.figure.Figure at 0x7fb024226630>"
      ]
     },
     "metadata": {},
     "output_type": "display_data"
    }
   ],
   "source": [
    "ws = [i for i in range(-30,30)]\n",
    "cs = [findCost(i) for i in range(-30,30)]\n",
    "plt.plot(ws,cs)\n",
    "plt.show()"
   ]
  },
  {
   "cell_type": "code",
   "execution_count": 22,
   "metadata": {
    "collapsed": false
   },
   "outputs": [
    {
     "data": {
      "text/plain": [
       "3.4999999999999845"
      ]
     },
     "execution_count": 22,
     "metadata": {},
     "output_type": "execute_result"
    }
   ],
   "source": [
    "wlop[glop.index(min(glop))]"
   ]
  },
  {
   "cell_type": "code",
   "execution_count": 23,
   "metadata": {
    "collapsed": false
   },
   "outputs": [
    {
     "data": {
      "image/png": "[encoded data removed]",
      "text/plain": [
       "<matplotlib.figure.Figure at 0x7fb0240f2e10>"
      ]
     },
     "metadata": {},
     "output_type": "display_data"
    }
   ],
   "source": [
    "ws = [i for i in range(-30,30)]\n",
    "cs = [findDeriv(i) for i in range(-30,30)]\n",
    "plt.plot(ws,cs)\n",
    "plt.show()"
   ]
  },
  {
   "cell_type": "code",
   "execution_count": null,
   "metadata": {
    "collapsed": true
   },
   "outputs": [],
   "source": []
  }
 ],
 "metadata": {
  "kernelspec": {
   "display_name": "Python 3",
   "language": "python",
   "name": "python3"
  },
  "language_info": {
   "codemirror_mode": {
    "name": "ipython",
    "version": 3
   },
   "file_extension": ".py",
   "mimetype": "text/x-python",
   "name": "python",
   "nbconvert_exporter": "python",
   "pygments_lexer": "ipython3",
   "version": "3.6.0"
  }
 },
 "nbformat": 4,
 "nbformat_minor": 2
}
