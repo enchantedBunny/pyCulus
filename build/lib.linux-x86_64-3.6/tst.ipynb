{
 "cells": [
  {
   "cell_type": "code",
   "execution_count": 1,
   "metadata": {
    "collapsed": false
   },
   "outputs": [],
   "source": [
    "import pyCalc as p"
   ]
  },
  {
   "cell_type": "code",
   "execution_count": 2,
   "metadata": {
    "collapsed": false
   },
   "outputs": [
    {
     "name": "stdout",
     "output_type": "stream",
     "text": [
      "('My id is ', 1)\n",
      "('My id is ', 2)\n",
      "('My id is ', 3)\n",
      "('My id is ', 4)\n",
      "('My id is ', 5)\n",
      "('My id is ', 6)\n",
      "('My id is ', 7)\n",
      "('My id is ', 8)\n",
      "('My id is ', 9)\n",
      "('My id is ', 10)\n",
      "('My id is ', 11)\n",
      "('My id is ', 12)\n",
      "('My id is ', 13)\n",
      "('My id is ', 14)\n",
      "('My id is ', 15)\n"
     ]
    },
    {
     "data": {
      "text/plain": [
       "'This function has 3 dependencies'"
      ]
     },
     "execution_count": 2,
     "metadata": {},
     "output_type": "execute_result"
    }
   ],
   "source": [
    "c1, c2,x,c,gr, f3,eh, eh2, e8 = p.var(),p.var(),p.var(),p.var(), p.var(),p.var(),p.var(),p.var(),p.var()\n",
    "costt, cost,h, last = p.var(), p.var(), p.var(), p.var()\n",
    "c1.c(1)\n",
    "c2.c(-1)\n",
    "x.i()\n",
    "b = p.var()\n",
    "b.i()\n",
    "last.i()\n",
    "gr.f(x,last,'*')\n",
    "Yg = p.var()\n",
    "Yg.f(gr,b,\"+\") #z = x*b"
   ]
  },
  {
   "cell_type": "code",
   "execution_count": 3,
   "metadata": {
    "collapsed": false
   },
   "outputs": [
    {
     "data": {
      "text/plain": [
       "'This function has 3 dependencies'"
      ]
     },
     "execution_count": 3,
     "metadata": {},
     "output_type": "execute_result"
    }
   ],
   "source": [
    "f3.f(c2, Yg,'*')#-z\n",
    "eh2.exp(f3) #e^-z\n"
   ]
  },
  {
   "cell_type": "code",
   "execution_count": 4,
   "metadata": {
    "collapsed": false
   },
   "outputs": [
    {
     "data": {
      "text/plain": [
       "'This function has 3 dependencies'"
      ]
     },
     "execution_count": 4,
     "metadata": {},
     "output_type": "execute_result"
    }
   ],
   "source": [
    "eh.f(c1, eh2, \"+\") #1+e^-z\n",
    "e8.f(c1, eh, \"/\") #1/(1+e^-z)"
   ]
  },
  {
   "cell_type": "code",
   "execution_count": 5,
   "metadata": {
    "collapsed": false
   },
   "outputs": [
    {
     "data": {
      "text/plain": [
       "'This function has 4 dependencies'"
      ]
     },
     "execution_count": 5,
     "metadata": {},
     "output_type": "execute_result"
    }
   ],
   "source": [
    "h.i()\n",
    "costt.f(h,e8,\"-\")"
   ]
  },
  {
   "cell_type": "code",
   "execution_count": 6,
   "metadata": {
    "collapsed": false
   },
   "outputs": [
    {
     "data": {
      "text/plain": [
       "'This function has 4 dependencies'"
      ]
     },
     "execution_count": 6,
     "metadata": {},
     "output_type": "execute_result"
    }
   ],
   "source": [
    "cost.pow(costt,2)"
   ]
  },
  {
   "cell_type": "code",
   "execution_count": 7,
   "metadata": {
    "collapsed": false
   },
   "outputs": [
    {
     "name": "stdout",
     "output_type": "stream",
     "text": [
      "( pow( v12 - ( 1.000000 / ( 1.000000 + ( exp( -1.000000 * ( ( v3 * v13 ) + v14 ) ) ) ) ) ) )\n"
     ]
    }
   ],
   "source": [
    "cost.preview()"
   ]
  },
  {
   "cell_type": "markdown",
   "metadata": {},
   "source": [
    "import matplotlib.pyplot as plt\n",
    "x = [(i-40)/10 for i in range(80)]\n",
    "y = [e8.value([hh]) for hh in x]\n",
    "plt.plot(x,y)\n",
    "plt.show()"
   ]
  },
  {
   "cell_type": "markdown",
   "metadata": {},
   "source": [
    "x = [(i-40)/10 for i in range(80)]\n",
    "y = [e8.getDeriv(0,[hh]) for hh in x]\n",
    "plt.plot(x,y)\n",
    "plt.show()"
   ]
  },
  {
   "cell_type": "code",
   "execution_count": 8,
   "metadata": {
    "collapsed": false
   },
   "outputs": [
    {
     "name": "stdout",
     "output_type": "stream",
     "text": [
      "[-10, -9, -8, -7, -6, -5, -4, -3, -2, -1, 0, 1, 2, 3, 4, 5, 6, 7, 8, 9, 10]\n",
      "-5\n",
      "[0, 0, 0, 0, 0, 0, 0, 1, 1, 1, 1, 1, 1, 1, 1, 1, 1, 1, 1, 1, 1]\n"
     ]
    }
   ],
   "source": [
    "X = [-10, -9, -8, -7, -6, -5, -4, -3, -2 ,-1, 0, 1, 2, 3, 4, 5, 6, 7, 8, 9, 10]\n",
    "w = -5\n",
    "Y = [ 0 if (g+3<0) else 1 for g in X]\n",
    "print(X)\n",
    "print(w)\n",
    "print(Y)\n",
    "def findCost(cw):\n",
    "    co=0\n",
    "    for i in range(len(X)):\n",
    "        co += cost.value([1,Y[i], X[i],cw]) \n",
    "    return(co/len(X))\n",
    "def findDeriv(cw):\n",
    "    s = 0\n",
    "    for i in range(len(X)):\n",
    "        s += cost.getDeriv(3,[1,Y[i], X[i],cw])   #this deriv is broken\n",
    "    return s/len(X)\n",
    "# import matplotlib.pyplot as plt\n",
    "# plt.plot(X,Y, 'ro')\n",
    "# plt.show()\n",
    "import math\n",
    "glop = []\n",
    "wlop = []\n",
    "slop = []"
   ]
  },
  {
   "cell_type": "code",
   "execution_count": 9,
   "metadata": {
    "collapsed": false
   },
   "outputs": [
    {
     "name": "stdout",
     "output_type": "stream",
     "text": [
      "iter: 0 cost 0.35716110868686746 w: -4.983816979062875 s: 0.809151046856246\n",
      "iter: 50 cost 0.3203913704253575 w: -4.212659531579496 s: 0.735768199388861\n",
      "iter: 100 cost 0.2869799237694588 w: -3.5114933422323635 s: 0.668950147886768\n",
      "iter: 150 cost 0.256638957288411 w: -2.874024612635394 s: 0.6081634144247151\n",
      "iter: 200 cost 0.22911043063349107 w: -2.294491266650417 s: 0.5528844413707009\n",
      "iter: 250 cost 0.20416496585489172 w: -1.7676387960730524 s: 0.5026228018469694\n",
      "iter: 300 cost 0.18159962503502225 w: -1.288683453768999 s: 0.4569269070090654\n",
      "iter: 350 cost 0.16123460255311595 w: -0.8532732544749617 s: 0.4153837652016331\n",
      "iter: 400 cost 0.14290953174839205 w: -0.4574503906314419 s: 0.37761687517576364\n",
      "iter: 450 cost 0.12647913463708482 w: -0.09761612276802761 s: 0.343283429633413\n",
      "iter: 500 cost 0.11180941458484324 w: 0.22950148374055956 s: 0.31207160624728114\n",
      "iter: 550 cost 0.09877366658447395 w: 0.5268771027175425 s: 0.2836976811065272\n",
      "iter: 600 cost 0.08724969374279341 w: 0.7972150782308602 s: 0.25790377012786586\n",
      "iter: 650 cost 0.07711783369368859 w: 1.042973925703218 s: 0.2344552828317752\n",
      "iter: 700 cost 0.06825991819333478 w: 1.2663886670861904 s: 0.21313905775258762\n",
      "iter: 750 cost 0.060559293364123606 w: 1.46949113489519 s: 0.1937612066560957\n",
      "iter: 800 cost 0.05390154910454538 w: 1.654128405402321 s: 0.17614543838897675\n",
      "iter: 850 cost 0.04817574776232767 w: 1.821979623789966 s: 0.1601316018412555\n",
      "iter: 900 cost 0.043275782850881364 w: 1.9745712143897551 s: 0.14557393797163276\n",
      "iter: 950 cost 0.03910168561165167 w: 2.1132908007627518 s: 0.13234005909734628\n",
      "iter: 1000 cost 0.035560676959757336 w: 2.239399820563927 s: 0.1203096336712839\n",
      "iter: 1050 cost 0.032567885593082616 w: 2.3540449705923074 s: 0.10937309234369812\n",
      "iter: 1100 cost 0.030046776301653262 w: 2.4582686669391904 s: 0.09943103164966617\n",
      "iter: 1150 cost 0.027929142846545067 w: 2.5530185181442673 s: 0.09039297413879208\n",
      "iter: 1200 cost 0.026154869128203324 w: 2.6391559298744762 s: 0.08217663551858138\n",
      "iter: 1250 cost 0.024671524861859206 w: 2.7174639800825346 s: 0.07470739989297553\n",
      "iter: 1300 cost 0.02343369468991882 w: 2.788654510799841 s: 0.06791727520370235\n",
      "iter: 1350 cost 0.022402382246441664 w: 2.8533746184251463 s: 0.06174442984740294\n",
      "iter: 1400 cost 0.021544281156033258 w: 2.9122125571619386 s: 0.0561327857153845\n",
      "iter: 1450 cost 0.020831120947111766 w: 2.9657030713562875 s: 0.05103127361785266\n",
      "iter: 1500 cost 0.020238980578528618 w: 3.0143322757880147 s: 0.0463935146385449\n",
      "iter: 1550 cost 0.01974772628240847 w: 3.0585420918642305 s: 0.04217736537213482\n",
      "iter: 1600 cost 0.019340440494830313 w: 3.0987342371419317 s: 0.038344436923840215\n",
      "iter: 1650 cost 0.019002970543351153 w: 3.135273914204356 s: 0.034859903156757355\n",
      "iter: 1700 cost 0.01872348057808622 w: 3.1684931081469347 s: 0.031692107884390724\n",
      "iter: 1750 cost 0.018492098890131307 w: 3.19869361785797 s: 0.028812232405124677\n",
      "iter: 1800 cost 0.018300611667135463 w: 3.22614980479882 s: 0.026194053535748805\n",
      "iter: 1850 cost 0.0181421915385889 w: 3.25111109528981 s: 0.023813889251046237\n",
      "iter: 1900 cost 0.0180111550958662 w: 3.2738042345658793 s: 0.021650021130751287\n",
      "iter: 1950 cost 0.017902795450871572 w: 3.294435342453842 s: 0.01968278317889642\n",
      "iter: 2000 cost 0.01781320057692223 w: 3.3131918210396782 s: 0.017894341632546412\n",
      "iter: 2050 cost 0.017739136548923135 w: 3.3302440307376084 s: 0.016268391472597916\n",
      "iter: 2100 cost 0.017677924537280836 w: 3.3457468393560545 s: 0.014790229543688752\n",
      "iter: 2150 cost 0.017627329975586935 w: 3.359841040429414 s: 0.013446376448319782\n",
      "iter: 2200 cost 0.017585526914137194 w: 3.3726546455440993 s: 0.012224664445966482\n",
      "iter: 2250 cost 0.017550984898413953 w: 3.3843040101545236 s: 0.011113907232703198\n",
      "iter: 2300 cost 0.01752245085842033 w: 3.3948949416454304 s: 0.010104148571069041\n",
      "iter: 2350 cost 0.017498877079035816 w: 3.4045236032742427 s: 0.00918610482698395\n",
      "iter: 2400 cost 0.017479406456173324 w: 3.413277430011735 s: 0.008351478370882216\n",
      "iter: 2450 cost 0.017463329265837893 w: 3.4212359119734628 s: 0.007592666971807678\n",
      "iter: 2500 cost 0.017450050646592462 w: 3.4284713195557255 s: 0.006902858260132018\n",
      "iter: 2550 cost 0.01743909143059106 w: 3.435049345758766 s: 0.006275697256482783\n",
      "iter: 2600 cost 0.0174300407397662 w: 3.441029720497118 s: 0.005705510044381732\n",
      "iter: 2650 cost 0.01742257009089123 w: 3.44646676054537 s: 0.005187164648391661\n",
      "iter: 2700 cost 0.017416406611619806 w: 3.4514098194516687 s: 0.004715906755466547\n",
      "iter: 2750 cost 0.017411315436014093 w: 3.455903785173314 s: 0.004287429231529434\n",
      "iter: 2800 cost 0.01740711933854655 w: 3.459989465141156 s: 0.003897892144907798\n",
      "iter: 2850 cost 0.017403655593898327 w: 3.4637039352711927 s: 0.003543745560039367\n",
      "iter: 2900 cost 0.01740080208965722 w: 3.4670809388409247 s: 0.003221811516033042\n",
      "iter: 2950 cost 0.017398446730665523 w: 3.4701511414502284 s: 0.0029290992478352216\n",
      "iter: 3000 cost 0.017396508680387883 w: 3.472942404690929 s: 0.0026629571248555466\n",
      "iter: 3050 cost 0.017394907800506825 w: 3.4754800738933302 s: 0.0024210436025723105\n",
      "iter: 3100 cost 0.017393591814633153 w: 3.4777871912624905 s: 0.0022010802224810633\n",
      "iter: 3150 cost 0.01739250572637205 w: 3.479884712029316 s: 0.002001136840720262\n",
      "iter: 3200 cost 0.017391614160051427 w: 3.4817916683382815 s: 0.0018193151114419812\n",
      "iter: 3250 cost 0.01739087816056844 w: 3.483525370162536 s: 0.0016540082038513251\n",
      "iter: 3300 cost 0.01739027497843774 w: 3.4851015688352796 s: 0.0015037460474386101\n",
      "iter: 3350 cost 0.017389779594226797 w: 3.4865345633214244 s: 0.0013671364147393476\n",
      "iter: 3400 cost 0.0173893699384647 w: 3.487837370832786 s: 0.001242932453308077\n",
      "iter: 3450 cost 0.017389037352623843 w: 3.4890218185815516 s: 0.0011300412006676197\n",
      "iter: 3500 cost 0.01738876209579149 w: 3.4900986539435266 s: 0.001027342974252644\n",
      "iter: 3550 cost 0.017388535398430924 w: 3.4910776619351784 s: 0.0009340116687651191\n",
      "iter: 3600 cost 0.017388351185351 w: 3.4919677280925416 s: 0.0008491670624131249\n",
      "iter: 3650 cost 0.017388198665859955 w: 3.492776936672967 s: 0.0007719694459367366\n",
      "iter: 3700 cost 0.017388074383033386 w: 3.4935126180270797 s: 0.0007018545709018197\n",
      "iter: 3750 cost 0.01738797781725951 w: 3.4941814529516875 s: 0.0006381039773779256\n",
      "iter: 3800 cost 0.01738789722536335 w: 3.4947895167333645 s: 0.0005801271403297072\n",
      "iter: 3850 cost 0.017387826214270468 w: 3.49534234022946 s: 0.0005274243054113217\n",
      "iter: 3900 cost 0.017387773397924973 w: 3.4958449442496424 s: 0.0004795106637868143\n",
      "iter: 3950 cost 0.017387731276802043 w: 3.4963018862874558 s: 0.0004359685838045109\n",
      "iter: 4000 cost 0.017387693885705942 w: 3.496717317644534 s: 0.00039633145068018207\n",
      "iter: 4050 cost 0.01738766664337429 w: 3.4970950072476295 s: 0.00036034132132218\n",
      "iter: 4100 cost 0.017387642064625095 w: 3.4974383874561563 s: 0.0003276121403489794\n",
      "iter: 4150 cost 0.017387624690690592 w: 3.4977505692172457 s: 0.0002978349858451457\n",
      "iter: 4200 cost 0.01738760904552416 w: 3.4980343812728765 s: 0.00027077005333488895\n",
      "iter: 4250 cost 0.01738759788775925 w: 3.4982924094399546 s: 0.0002461770837683053\n",
      "iter: 4300 cost 0.01738758981299731 w: 3.4985269962703844 s: 0.0002237999745245491\n",
      "iter: 4350 cost 0.01738758265989321 w: 3.4987402709252278 s: 0.0002034904235707862\n",
      "iter: 4400 cost 0.017387574395726295 w: 3.4989341740760618 s: 0.00018499558791518211\n",
      "iter: 4450 cost 0.01738757243006666 w: 3.4991104560600697 s: 0.00016817400631095682\n",
      "iter: 4500 cost 0.01738756859222504 w: 3.4992707166719055 s: 0.00015290024956422194\n",
      "iter: 4550 cost 0.01738756671391276 w: 3.4994164262996144 s: 0.00013900730049326305\n",
      "iter: 4600 cost 0.017387565364374205 w: 3.4995489009687364 s: 0.00012638126056463945\n",
      "iter: 4650 cost 0.01738756383137487 w: 3.499669337426785 s: 0.00011490692295843647\n",
      "iter: 4700 cost 0.01738756509844174 w: 3.4997788340820373 s: 0.00010447674209163302\n",
      "iter: 4750 cost 0.01738756293909831 w: 3.4998783831094626 s: 9.497592136973427e-05\n",
      "iter: 4800 cost 0.017387565325374204 w: 3.499968892497571 s: 8.636134277497019e-05\n",
      "iter: 4850 cost 0.017387562797465488 w: 3.5000511768491593 s: 7.84915117990403e-05\n",
      "iter: 4900 cost 0.01738756133287585 w: 3.5001259794589847 s: 7.135460951498576e-05\n",
      "iter: 4950 cost 0.01738756419356963 w: 3.5001939903572468 s: 6.487639620900154e-05\n",
      "-5\n",
      "3.500253451535992\n"
     ]
    }
   ],
   "source": [
    "\n",
    "for it in range (5000):\n",
    "    s = findDeriv(w)\n",
    "    slop.append(s)\n",
    "    glop.append(findCost(w))\n",
    "    wlop.append(w)\n",
    "    w = w + 0.02*s \n",
    "    if math.isnan(s):\n",
    "        print(\"it's nan\", it, w, s,  sep=\"   \")\n",
    "    if it % 50 == 0:\n",
    "        print(\"iter:\", it, \"cost\", glop[it], \"w:\", w,\"s:\", s, sep=\" \")\n",
    "print(wlop[0])\n",
    "print(wlop[len(wlop)-1])"
   ]
  },
  {
   "cell_type": "code",
   "execution_count": 10,
   "metadata": {
    "collapsed": false
   },
   "outputs": [
    {
     "data": {
      "image/png": "[encoded data removed]",
      "text/plain": [
       "<matplotlib.figure.Figure at 0x7f0c94180860>"
      ]
     },
     "metadata": {},
     "output_type": "display_data"
    }
   ],
   "source": [
    "import matplotlib.pyplot as plt\n",
    "plt.plot(wlop)\n",
    "plt.show()"
   ]
  },
  {
   "cell_type": "code",
   "execution_count": 11,
   "metadata": {
    "collapsed": false
   },
   "outputs": [
    {
     "data": {
      "image/png": "[encoded data removed]",
      "text/plain": [
       "<matplotlib.figure.Figure at 0x7f0c69dc3b70>"
      ]
     },
     "metadata": {},
     "output_type": "display_data"
    }
   ],
   "source": [
    "plt.plot(glop)\n",
    "plt.show()"
   ]
  },
  {
   "cell_type": "code",
   "execution_count": 12,
   "metadata": {
    "collapsed": false
   },
   "outputs": [
    {
     "data": {
      "image/png": "[encoded data removed]",
      "text/plain": [
       "<matplotlib.figure.Figure at 0x7f0c69d06e10>"
      ]
     },
     "metadata": {},
     "output_type": "display_data"
    }
   ],
   "source": [
    "plt.plot(slop)\n",
    "plt.show()"
   ]
  },
  {
   "cell_type": "code",
   "execution_count": 13,
   "metadata": {
    "collapsed": false
   },
   "outputs": [
    {
     "data": {
      "image/png": "[encoded data removed]",
      "text/plain": [
       "<matplotlib.figure.Figure at 0x7f0c69c22208>"
      ]
     },
     "metadata": {},
     "output_type": "display_data"
    }
   ],
   "source": [
    "out = [1 if e8.value([1,xx,wlop[glop.index(min(glop))]]) > 0.5 else 0 for xx in X]\n",
    "plt.plot(X,out)\n",
    "plt.show()"
   ]
  },
  {
   "cell_type": "code",
   "execution_count": 14,
   "metadata": {
    "collapsed": false
   },
   "outputs": [
    {
     "data": {
      "image/png": "[encoded data removed]",
      "text/plain": [
       "<matplotlib.figure.Figure at 0x7f0c69c344e0>"
      ]
     },
     "metadata": {},
     "output_type": "display_data"
    }
   ],
   "source": [
    "plt.plot(X,Y)\n",
    "plt.show()"
   ]
  },
  {
   "cell_type": "code",
   "execution_count": 15,
   "metadata": {
    "collapsed": false
   },
   "outputs": [
    {
     "name": "stdout",
     "output_type": "stream",
     "text": [
      "100.0 %\n"
     ]
    }
   ],
   "source": [
    "acc = [1 if Y[l]==out[l] else 0 for l in range(len(Y))]\n",
    "acc = sum(acc)/len(acc)\n",
    "print(acc*100, '%')"
   ]
  },
  {
   "cell_type": "code",
   "execution_count": 16,
   "metadata": {
    "collapsed": false
   },
   "outputs": [
    {
     "data": {
      "image/png": "[encoded data removed]",
      "text/plain": [
       "<matplotlib.figure.Figure at 0x7f0c69ca76a0>"
      ]
     },
     "metadata": {},
     "output_type": "display_data"
    }
   ],
   "source": [
    "plt.plot([cost.getDeriv(3,[1,Y[i], X[i],wlop[glop.index(min(glop))]]) for i in range(len(X))])\n",
    "plt.show()"
   ]
  },
  {
   "cell_type": "code",
   "execution_count": 17,
   "metadata": {
    "collapsed": false
   },
   "outputs": [
    {
     "data": {
      "image/png": "[encoded data removed]",
      "text/plain": [
       "<matplotlib.figure.Figure at 0x7f0c69a86b00>"
      ]
     },
     "metadata": {},
     "output_type": "display_data"
    }
   ],
   "source": [
    "plt.plot([cost.getDeriv(2,[1,Y[i], X[i],wlop[glop.index(min(glop))]]) for i in range(len(X))])\n",
    "plt.show()"
   ]
  },
  {
   "cell_type": "code",
   "execution_count": 18,
   "metadata": {
    "collapsed": false
   },
   "outputs": [
    {
     "data": {
      "image/png": "[encoded data removed]",
      "text/plain": [
       "<matplotlib.figure.Figure at 0x7f0c699f37f0>"
      ]
     },
     "metadata": {},
     "output_type": "display_data"
    }
   ],
   "source": [
    "plt.plot(X,[cost.getDeriv(1,[1,Y[i], X[i],wlop[glop.index(min(glop))]]) for i in range(len(X))])\n",
    "plt.show()"
   ]
  },
  {
   "cell_type": "code",
   "execution_count": 19,
   "metadata": {
    "collapsed": false,
    "scrolled": true
   },
   "outputs": [
    {
     "data": {
      "image/png": "[encoded data removed]",
      "text/plain": [
       "<matplotlib.figure.Figure at 0x7f0c69922d68>"
      ]
     },
     "metadata": {},
     "output_type": "display_data"
    }
   ],
   "source": [
    "plt.plot([cost.getDeriv(0,[1,Y[i], X[i],wlop[glop.index(min(glop))]]) for i in range(len(X))])\n",
    "plt.show()"
   ]
  },
  {
   "cell_type": "code",
   "execution_count": 20,
   "metadata": {
    "collapsed": false,
    "scrolled": false
   },
   "outputs": [
    {
     "name": "stdout",
     "output_type": "stream",
     "text": [
      "( pow( v12 - ( 1.000000 / ( 1.000000 + ( exp( -1.000000 * ( ( v3 * v13 ) + v14 ) ) ) ) ) ) )\n"
     ]
    }
   ],
   "source": [
    "cost.preview()"
   ]
  },
  {
   "cell_type": "code",
   "execution_count": 21,
   "metadata": {
    "collapsed": false
   },
   "outputs": [
    {
     "data": {
      "image/png": "[encoded data removed]",
      "text/plain": [
       "<matplotlib.figure.Figure at 0x7f0c699a8be0>"
      ]
     },
     "metadata": {},
     "output_type": "display_data"
    }
   ],
   "source": [
    "def findCost2(cw):\n",
    "    co=0\n",
    "    for i in range(len(X)):\n",
    "        co += costt.value([1,Y[i], X[i],cw]) \n",
    "    return(co/len(X))\n",
    "def findDeriv2(cw, gggg):\n",
    "    s = 0\n",
    "    for i in range(len(X)):\n",
    "        s += costt.getDeriv(gggg,[1,Y[i], X[i],cw])   #this deriv is broken\n",
    "    return s/len(X)\n",
    "ws = [i for i in range(-30,30)]\n",
    "cs = [findCost2(i) for i in range(-30,30)]\n",
    "plt.plot(ws,cs)\n",
    "plt.show()"
   ]
  },
  {
   "cell_type": "code",
   "execution_count": 22,
   "metadata": {
    "collapsed": false
   },
   "outputs": [
    {
     "name": "stdout",
     "output_type": "stream",
     "text": [
      "( g12 - ( 1.000000 / ( 1.000000 + ( exp( -1.000000 * ( ( g3 * g13 ) + g14 ) ) ) ) ) )\n"
     ]
    }
   ],
   "source": [
    "costt.preview()"
   ]
  },
  {
   "cell_type": "code",
   "execution_count": 23,
   "metadata": {
    "collapsed": false
   },
   "outputs": [
    {
     "data": {
      "image/png": "[encoded data removed]",
      "text/plain": [
       "<matplotlib.figure.Figure at 0x7f0c6990fba8>"
      ]
     },
     "metadata": {},
     "output_type": "display_data"
    }
   ],
   "source": [
    "ws = [i for i in range(-30,30)]\n",
    "cs = [findDeriv2(i, 0) for i in range(-30,30)]\n",
    "plt.plot(ws,cs)\n",
    "plt.show()"
   ]
  },
  {
   "cell_type": "code",
   "execution_count": 24,
   "metadata": {
    "collapsed": false
   },
   "outputs": [
    {
     "data": {
      "image/png": "[encoded data removed]",
      "text/plain": [
       "<matplotlib.figure.Figure at 0x7f0c6976a6d8>"
      ]
     },
     "metadata": {},
     "output_type": "display_data"
    }
   ],
   "source": [
    "ws = [i for i in range(-30,30)]\n",
    "cs = [findDeriv2(i, 1) for i in range(-30,30)]\n",
    "plt.plot(ws,cs)\n",
    "plt.show()"
   ]
  },
  {
   "cell_type": "code",
   "execution_count": 25,
   "metadata": {
    "collapsed": false
   },
   "outputs": [
    {
     "data": {
      "image/png": "[encoded data removed]",
      "text/plain": [
       "<matplotlib.figure.Figure at 0x7f0c69756208>"
      ]
     },
     "metadata": {},
     "output_type": "display_data"
    }
   ],
   "source": [
    "ws = [i for i in range(-30,30)]\n",
    "cs = [findDeriv2(i, 2) for i in range(-30,30)]\n",
    "plt.plot(ws,cs)\n",
    "plt.show()"
   ]
  },
  {
   "cell_type": "code",
   "execution_count": 26,
   "metadata": {
    "collapsed": false
   },
   "outputs": [
    {
     "data": {
      "image/png": "[encoded data removed]",
      "text/plain": [
       "<matplotlib.figure.Figure at 0x7f0c69a6dd68>"
      ]
     },
     "metadata": {},
     "output_type": "display_data"
    }
   ],
   "source": [
    "ws = [i for i in range(-30,30)]\n",
    "cs = [findDeriv2(i, 3) for i in range(-30,30)]\n",
    "plt.plot(ws,cs)\n",
    "plt.show()"
   ]
  },
  {
   "cell_type": "code",
   "execution_count": null,
   "metadata": {
    "collapsed": true
   },
   "outputs": [],
   "source": []
  }
 ],
 "metadata": {
  "kernelspec": {
   "display_name": "Python 3",
   "language": "python",
   "name": "python3"
  },
  "language_info": {
   "codemirror_mode": {
    "name": "ipython",
    "version": 3
   },
   "file_extension": ".py",
   "mimetype": "text/x-python",
   "name": "python",
   "nbconvert_exporter": "python",
   "pygments_lexer": "ipython3",
   "version": "3.6.0"
  }
 },
 "nbformat": 4,
 "nbformat_minor": 2
}
